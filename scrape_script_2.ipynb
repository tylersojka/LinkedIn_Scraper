{
 "metadata": {
  "language_info": {
   "codemirror_mode": {
    "name": "ipython",
    "version": 3
   },
   "file_extension": ".py",
   "mimetype": "text/x-python",
   "name": "python",
   "nbconvert_exporter": "python",
   "pygments_lexer": "ipython3",
   "version": "3.9.2"
  },
  "orig_nbformat": 2,
  "kernelspec": {
   "name": "python392jvsc74a57bd0f669e42020dcbe0110983b84f49315ea95156214cdc1256d3541f61dd3de87e0",
   "display_name": "Python 3.9.2 64-bit ('work': conda)"
  },
  "metadata": {
   "interpreter": {
    "hash": "f669e42020dcbe0110983b84f49315ea95156214cdc1256d3541f61dd3de87e0"
   }
  }
 },
 "nbformat": 4,
 "nbformat_minor": 2,
 "cells": [
  {
   "cell_type": "code",
   "execution_count": 1,
   "metadata": {},
   "outputs": [],
   "source": [
    "import parameters\n",
    "from time import sleep\n",
    "from selenium import webdriver\n",
    "from selenium.webdriver.common.keys import Keys\n",
    "from bs4 import BeautifulSoup as soup\n",
    "import pandas as pd"
   ]
  },
  {
   "cell_type": "code",
   "execution_count": 2,
   "metadata": {},
   "outputs": [],
   "source": [
    "pd.set_option('display.max_colwidth', None)"
   ]
  },
  {
   "cell_type": "code",
   "execution_count": 3,
   "metadata": {},
   "outputs": [],
   "source": [
    "# start an instance of chrome\n",
    "driver = webdriver.Chrome(\"/usr/local/bin/chromedriver\")\n",
    "# driver.get method() will navigate to a page given by the URL address\n",
    "driver.get('https://www.linkedin.com/company/conquestcyber/people/')"
   ]
  },
  {
   "cell_type": "code",
   "execution_count": 4,
   "metadata": {},
   "outputs": [],
   "source": [
    "# locate email form by_id\n",
    "username = driver.find_element_by_id('username')\n",
    "\n",
    "# send_keys() to simulate key strokes\n",
    "username.send_keys(parameters.linkedin_username)\n",
    "\n",
    "# sleep for 0.5 seconds\n",
    "sleep(0.5)"
   ]
  },
  {
   "cell_type": "code",
   "execution_count": 5,
   "metadata": {},
   "outputs": [],
   "source": [
    "# locate password form by_id\n",
    "password = driver.find_element_by_id('password')\n",
    "\n",
    "# send_keys() to simulate key strokes\n",
    "password.send_keys(parameters.linkedin_password)\n",
    "sleep(0.5)"
   ]
  },
  {
   "cell_type": "code",
   "execution_count": 6,
   "metadata": {},
   "outputs": [],
   "source": [
    "# locate submit button by_xpath\n",
    "sign_in_button = driver.find_element_by_xpath('//*[@type=\"submit\"]')\n",
    "\n",
    "# .click() to mimic button click\n",
    "sign_in_button.click()"
   ]
  },
  {
   "cell_type": "code",
   "execution_count": 7,
   "metadata": {},
   "outputs": [],
   "source": [
    "# loading all results on the page, clicking hidden \"more results button\"\n",
    "SCROLL_PAUSE_TIME = 0.5\n",
    "\n",
    "# Get scroll height\n",
    "last_height = driver.execute_script(\"return document.body.scrollHeight\")\n",
    "\n",
    "while True:\n",
    "    # Scroll down to bottom\n",
    "    driver.execute_script(\"window.scrollTo(0, document.body.scrollHeight);\")\n",
    "\n",
    "    # Wait to load page\n",
    "    sleep(SCROLL_PAUSE_TIME)\n",
    "\n",
    "    # Calculate new scroll height and compare with last scroll height\n",
    "    new_height = driver.execute_script(\"return document.body.scrollHeight\")\n",
    "    if new_height == last_height:\n",
    "        break\n",
    "    last_height = new_height"
   ]
  },
  {
   "cell_type": "code",
   "execution_count": 8,
   "metadata": {},
   "outputs": [],
   "source": [
    "# parse the page html\n",
    "html = driver.page_source\n",
    "soup_html = soup(html)"
   ]
  },
  {
   "cell_type": "code",
   "execution_count": 9,
   "metadata": {},
   "outputs": [],
   "source": [
    "#isolate the element holding all of the people list items\n",
    "people_list_container = soup_html.find(\"ul\", class_=\"display-flex list-style-none flex-wrap\")"
   ]
  },
  {
   "cell_type": "code",
   "execution_count": 10,
   "metadata": {},
   "outputs": [],
   "source": [
    "# grab all the people(li elements)\n",
    "people_list = people_list_container.find_all('li')"
   ]
  },
  {
   "cell_type": "code",
   "execution_count": 11,
   "metadata": {
    "tags": []
   },
   "outputs": [
    {
     "output_type": "execute_result",
     "data": {
      "text/plain": [
       "88"
      ]
     },
     "metadata": {},
     "execution_count": 11
    }
   ],
   "source": [
    "# check the length looks right\n",
    "len(people_list)"
   ]
  },
  {
   "cell_type": "code",
   "execution_count": 12,
   "metadata": {},
   "outputs": [],
   "source": [
    "# create pandas df to hold data\n",
    "ccdb = pd.DataFrame()\n",
    "ccdb = ccdb.assign(Name = \"\",Title = \"\", Company = \"\")"
   ]
  },
  {
   "cell_type": "code",
   "execution_count": 19,
   "metadata": {},
   "outputs": [
    {
     "output_type": "error",
     "ename": "AttributeError",
     "evalue": "'NoneType' object has no attribute 'text'",
     "traceback": [
      "\u001b[0;31m---------------------------------------------------------------------------\u001b[0m",
      "\u001b[0;31mAttributeError\u001b[0m                            Traceback (most recent call last)",
      "\u001b[0;32m<ipython-input-19-c53364e23523>\u001b[0m in \u001b[0;36m<module>\u001b[0;34m\u001b[0m\n\u001b[1;32m      5\u001b[0m     \u001b[0mtitle\u001b[0m \u001b[0;34m=\u001b[0m \u001b[0mperson\u001b[0m\u001b[0;34m.\u001b[0m\u001b[0mfind\u001b[0m\u001b[0;34m(\u001b[0m\u001b[0;34m\"div\"\u001b[0m\u001b[0;34m,\u001b[0m \u001b[0mclass_\u001b[0m\u001b[0;34m=\u001b[0m\u001b[0;34m\"lt-line-clamp lt-line-clamp--multi-line ember-view\"\u001b[0m\u001b[0;34m)\u001b[0m\u001b[0;34m\u001b[0m\u001b[0;34m\u001b[0m\u001b[0m\n\u001b[1;32m      6\u001b[0m     \u001b[0;31m# add name and title to df\u001b[0m\u001b[0;34m\u001b[0m\u001b[0;34m\u001b[0m\u001b[0;34m\u001b[0m\u001b[0m\n\u001b[0;32m----> 7\u001b[0;31m     \u001b[0mccdb\u001b[0m \u001b[0;34m=\u001b[0m \u001b[0mccdb\u001b[0m\u001b[0;34m.\u001b[0m\u001b[0mappend\u001b[0m\u001b[0;34m(\u001b[0m\u001b[0;34m{\u001b[0m\u001b[0;34m\"Name\"\u001b[0m\u001b[0;34m:\u001b[0m\u001b[0mname\u001b[0m\u001b[0;34m.\u001b[0m\u001b[0mtext\u001b[0m\u001b[0;34m,\u001b[0m \u001b[0;34m\"Title\"\u001b[0m\u001b[0;34m:\u001b[0m\u001b[0mtitle\u001b[0m\u001b[0;34m.\u001b[0m\u001b[0mtext\u001b[0m\u001b[0;34m}\u001b[0m\u001b[0;34m,\u001b[0m \u001b[0mignore_index\u001b[0m\u001b[0;34m=\u001b[0m\u001b[0;32mTrue\u001b[0m\u001b[0;34m)\u001b[0m\u001b[0;34m\u001b[0m\u001b[0;34m\u001b[0m\u001b[0m\n\u001b[0m",
      "\u001b[0;31mAttributeError\u001b[0m: 'NoneType' object has no attribute 'text'"
     ]
    }
   ],
   "source": [
    "for person in people_list:\n",
    "    # find the name text element\n",
    "    name = person.find(\"div\", class_=\"org-people-profile-card__profile-title t-black lt-line-clamp lt-line-clamp--single-line ember-view\")\n",
    "    #find the title text element \n",
    "    title = person.find(\"div\", class_=\"lt-line-clamp lt-line-clamp--multi-line ember-view\")\n",
    "    # add name and title to df\n",
    "    ccdb = ccdb.append({\"Name\":name.text, \"Title\":title.text}, ignore_index=True)"
   ]
  },
  {
   "cell_type": "code",
   "execution_count": 15,
   "metadata": {},
   "outputs": [],
   "source": [
    "#clean up strings (get rid of /n)\n",
    "ccdb = ccdb.replace(regex = [r'\\n', \"  \"], value='')\n"
   ]
  },
  {
   "cell_type": "code",
   "execution_count": 16,
   "metadata": {},
   "outputs": [
    {
     "output_type": "stream",
     "name": "stdout",
     "text": [
      "CEO at UDT\nCEO \nExecutive Operations Manager at Conquest Cyber\nExecutive Operations Manager \nSenior Vice President -Digital Transformation at Conquest Cyber\nSenior Vice President -Digital Transformation \nSOC Analyst at Conquest Cyber\nSOC Analyst \nStrategy Consultant at Conquest Cyber I CMMC Registered Practitioner\nStrategy Consultant  I CMMC Registered Practitioner\nProduct Development Engineer at Conquest Cyber\nProduct Development Engineer \nVice President at Conquest Cyber\nVice President \nManager, Engagement Management Office at Conquest Cyber\nManager, Engagement Management Office \nSVP of Security Strategy Conquest Cyber\nSVP of Security Strategy \nCyber Threat Intelligence Analyst at Conquest Cyber\nCyber Threat Intelligence Analyst \nCustomer Success Manager at Conquest Cyber\nCustomer Success Manager \nSenior Director of Advanced Technologies at Conquest Cyber\nSenior Director of Advanced Technologies \nEngagement Manager at Conquest Cyber\nEngagement Manager \nExecutive Director of Strategic Cyber Operations (SCyOps) at Conquest Cyber\nExecutive Director of Strategic Cyber Operations (SCyOps) \nMarketing Specialist at Conquest Cyber\nMarketing Specialist \nLead Strategy Consultant at Conquest Cyber\nLead Strategy Consultant \nManager of Consulting at Conquest Cyber\nManager of Consulting \nEngagement Manager at Conquest Cyber\nEngagement Manager \nEngagement Manager at Conquest Cyber\nEngagement Manager \nManager of Product Development at Conquest Cyber\nManager of Product Development \nMS 365 Solution Architect focusing on Digital Transformation at Conquest Cyber\nMS 365 Solution Architect focusing on Digital Transformation \nSenior SOC Analyst at Conquest Cyber\nSenior SOC Analyst \nSenior Product Engineer at Conquest Cyber\nSenior Product Engineer \nARMED GRC Consultant at Conquest Cyber\nARMED GRC Consultant \nProduct Designer at Conquest Cyber\nProduct Designer \nCyber Security Consultant at Conquest Cyber\nCyber Security Consultant \nCyber Security Analyst at Conquest Cyber\nCyber Security Analyst \nJr. Cloud Engineer at Conquest Cyber\nJr. Cloud Engineer \nSoftware Engineer at Conquest Cyber\nSoftware Engineer \nVP Conquest Cyber at Conquest Cyber\nVP Conquest Cyber \nVP Conquest Cyber \nVP  \nSr. Security Engineer at Conquest Cyber\nSr. Security Engineer \nSecurity Operations Center Analyst at Conquest Cyber\nSecurity Operations Center Analyst \nLead Software Developer Manager at ConQuest Cyber\nLead Software Developer Manager at \nSenior SOC Analyst at Conquest Cyber\nSenior SOC Analyst \nChannel Manager at Conquest Cyber - CMMC Registered Practitioner\nChannel Manager  - CMMC Registered Practitioner\nUser Experience Designer at Conquest Cyber\nUser Experience Designer \nSr. Manager Security Strategy at Conquest Cyber\nSr. Manager Security Strategy \nProduct Engineer at Conquest Cyber\nProduct Engineer \nSenior Security Application Engineer at Conquest Cyber\nSenior Security Application Engineer \nSecurity+ CE, Governance, Risk and Compliance Consultant at Conquest Cyber\nSecurity+ CE, Governance, Risk and Compliance Consultant \nSenior Security Analyst at Conquest Cyber\nSenior Security Analyst \nSenior Automation Engineer at Conquest Cyber\nSenior Automation Engineer \nCloud Engineer at Conquest Cyber\nCloud Engineer \nSecurity Operations Center Analyst at Conquest Cyber\nSecurity Operations Center Analyst \nDevSecOps Engineer at Conquest Cyber\nDevSecOps Engineer \nCloud Security Engineer at Conquest Cyber\nCloud Security Engineer \nSecurity Consultant at Conquest Cyber\nSecurity Consultant \nSenior Application Security Engineer at Conquest Cyber\nSenior Application Security Engineer \nCyber Security Specialist Intern at Conquest Cyber | Assistant Instructor at Evolve Security Academy | CompTIA Sec +| AWS Cloud Practitioner\nCyber Security Specialist Intern  | Assistant Instructor at Evolve Security Academy | CompTIA Sec +| AWS Cloud Practitioner\nRecruitment and Professional Development Specialist at Conquest Cyber\nRecruitment and Professional Development Specialist \nOperations Manager at Conquest Cyber\nOperations Manager \nServicenow Engineer at Conquest Cyber\nServicenow Engineer \nStrategic Consultant at Conquest Cyber | CMMC Registered Practitioner\nStrategic Consultant  | CMMC Registered Practitioner\nThreat Analyst Manager @ Conquest Cyber\nThreat Analyst Manager \nLead Security Analyst at Conquest Cyber | CEH, CMMC-AB RP\nLead Security Analyst  | CEH, CMMC-AB RP\nSecurity Analyst at Conquest Cyber\nSecurity Analyst \nCyber Operations Manager at Conquest Cyber | CISSP, CySA+\nCyber Operations Manager  | CISSP, CySA+\nGRC Consultant at Conquest Cyber\nGRC Consultant \nSOC Analyst @ Conquest Cyber\nSOC Analyst \nCyber Security Analyst | Conquest Cyber\nCyber Security Analyst | \nIntern at Conquest Cyber | Teaching Assistant at Trilogy Education | Data Analyst | Engineer | Scientist | Python, SQL, Excel | Jack Of All Data Trades, I Help Companies Make Sense Of Their Big Data\nIntern  | Teaching Assistant at Trilogy Education | Data Analyst | Engineer | Scientist | Python, SQL, Excel | Jack Of All Data Trades, I Help Companies Make Sense Of Their Big Data\nSecurity Operations Center Analyst at Conquest Cyber\nSecurity Operations Center Analyst \nSecurity Engineer at Conquest Cyber\nSecurity Engineer \nDTX Intern at Conquest Cyber\nDTX Intern \nHelp Desk Technician at Conquest Cyber\nHelp Desk Technician \nSecurity Engineer at Conquest Cyber\nSecurity Engineer \nCyber Threat Engineer at Conquest Cyber | CySA+\nCyber Threat Engineer  | CySA+\nCEO at UDT\nCEO \nExecutive Operations Manager at Conquest Cyber\nExecutive Operations Manager \nSenior Vice President -Digital Transformation at Conquest Cyber\nSenior Vice President -Digital Transformation \nSOC Analyst at Conquest Cyber\nSOC Analyst \nStrategy Consultant at Conquest Cyber I CMMC Registered Practitioner\nStrategy Consultant  I CMMC Registered Practitioner\nProduct Development Engineer at Conquest Cyber\nProduct Development Engineer \nVice President at Conquest Cyber\nVice President \nManager, Engagement Management Office at Conquest Cyber\nManager, Engagement Management Office \nSVP of Security Strategy Conquest Cyber\nSVP of Security Strategy \nCyber Threat Intelligence Analyst at Conquest Cyber\nCyber Threat Intelligence Analyst \nCustomer Success Manager at Conquest Cyber\nCustomer Success Manager \nSenior Director of Advanced Technologies at Conquest Cyber\nSenior Director of Advanced Technologies \nEngagement Manager at Conquest Cyber\nEngagement Manager \nExecutive Director of Strategic Cyber Operations (SCyOps) at Conquest Cyber\nExecutive Director of Strategic Cyber Operations (SCyOps) \nMarketing Specialist at Conquest Cyber\nMarketing Specialist \nLead Strategy Consultant at Conquest Cyber\nLead Strategy Consultant \nManager of Consulting at Conquest Cyber\nManager of Consulting \nEngagement Manager at Conquest Cyber\nEngagement Manager \nEngagement Manager at Conquest Cyber\nEngagement Manager \nManager of Product Development at Conquest Cyber\nManager of Product Development \nMS 365 Solution Architect focusing on Digital Transformation at Conquest Cyber\nMS 365 Solution Architect focusing on Digital Transformation \nSenior SOC Analyst at Conquest Cyber\nSenior SOC Analyst \nSenior Product Engineer at Conquest Cyber\nSenior Product Engineer \nARMED GRC Consultant at Conquest Cyber\nARMED GRC Consultant \nProduct Designer at Conquest Cyber\nProduct Designer \nCyber Security Consultant at Conquest Cyber\nCyber Security Consultant \nCyber Security Analyst at Conquest Cyber\nCyber Security Analyst \nJr. Cloud Engineer at Conquest Cyber\nJr. Cloud Engineer \nSoftware Engineer at Conquest Cyber\nSoftware Engineer \nVP Conquest Cyber at Conquest Cyber\nVP Conquest Cyber \nVP Conquest Cyber \nVP  \nSr. Security Engineer at Conquest Cyber\nSr. Security Engineer \nSecurity Operations Center Analyst at Conquest Cyber\nSecurity Operations Center Analyst \nLead Software Developer Manager at ConQuest Cyber\nLead Software Developer Manager at \nSenior SOC Analyst at Conquest Cyber\nSenior SOC Analyst \nChannel Manager at Conquest Cyber - CMMC Registered Practitioner\nChannel Manager  - CMMC Registered Practitioner\nUser Experience Designer at Conquest Cyber\nUser Experience Designer \nSr. Manager Security Strategy at Conquest Cyber\nSr. Manager Security Strategy \nProduct Engineer at Conquest Cyber\nProduct Engineer \nSenior Security Application Engineer at Conquest Cyber\nSenior Security Application Engineer \nSecurity+ CE, Governance, Risk and Compliance Consultant at Conquest Cyber\nSecurity+ CE, Governance, Risk and Compliance Consultant \nSenior Security Analyst at Conquest Cyber\nSenior Security Analyst \nSenior Automation Engineer at Conquest Cyber\nSenior Automation Engineer \nCloud Engineer at Conquest Cyber\nCloud Engineer \nSecurity Operations Center Analyst at Conquest Cyber\nSecurity Operations Center Analyst \nDevSecOps Engineer at Conquest Cyber\nDevSecOps Engineer \nCloud Security Engineer at Conquest Cyber\nCloud Security Engineer \nSecurity Consultant at Conquest Cyber\nSecurity Consultant \nSenior Application Security Engineer at Conquest Cyber\nSenior Application Security Engineer \nCyber Security Specialist Intern at Conquest Cyber | Assistant Instructor at Evolve Security Academy | CompTIA Sec +| AWS Cloud Practitioner\nCyber Security Specialist Intern  | Assistant Instructor at Evolve Security Academy | CompTIA Sec +| AWS Cloud Practitioner\nRecruitment and Professional Development Specialist at Conquest Cyber\nRecruitment and Professional Development Specialist \nOperations Manager at Conquest Cyber\nOperations Manager \nServicenow Engineer at Conquest Cyber\nServicenow Engineer \nStrategic Consultant at Conquest Cyber | CMMC Registered Practitioner\nStrategic Consultant  | CMMC Registered Practitioner\nThreat Analyst Manager @ Conquest Cyber\nThreat Analyst Manager \nLead Security Analyst at Conquest Cyber | CEH, CMMC-AB RP\nLead Security Analyst  | CEH, CMMC-AB RP\nSecurity Analyst at Conquest Cyber\nSecurity Analyst \nCyber Operations Manager at Conquest Cyber | CISSP, CySA+\nCyber Operations Manager  | CISSP, CySA+\nGRC Consultant at Conquest Cyber\nGRC Consultant \nSOC Analyst @ Conquest Cyber\nSOC Analyst \nCyber Security Analyst | Conquest Cyber\nCyber Security Analyst | \nIntern at Conquest Cyber | Teaching Assistant at Trilogy Education | Data Analyst | Engineer | Scientist | Python, SQL, Excel | Jack Of All Data Trades, I Help Companies Make Sense Of Their Big Data\nIntern  | Teaching Assistant at Trilogy Education | Data Analyst | Engineer | Scientist | Python, SQL, Excel | Jack Of All Data Trades, I Help Companies Make Sense Of Their Big Data\nSecurity Operations Center Analyst at Conquest Cyber\nSecurity Operations Center Analyst \nSecurity Engineer at Conquest Cyber\nSecurity Engineer \nDTX Intern at Conquest Cyber\nDTX Intern \nHelp Desk Technician at Conquest Cyber\nHelp Desk Technician \nSecurity Engineer at Conquest Cyber\nSecurity Engineer \nCyber Threat Engineer at Conquest Cyber | CySA+\nCyber Threat Engineer  | CySA+\n"
     ]
    }
   ],
   "source": [
    "ccdb = ccdb.fillna(\"\")\n",
    "company = ['at Conquest Cyber', '@ Conquest Cyber', 'Conquest Cyber', 'ConQuest Cyber']\n",
    "company2 = [ 'at UDT', \"UDT\"]\n",
    "keywords = ['CISSP', 'CySA+', 'CEH', 'CMMC-AB', 'RP']\n",
    "for row in range(0, len(ccdb)):\n",
    "    for string in company:\n",
    "\n",
    "        if string in str(ccdb.iat[(row), 1]):\n",
    "            print(ccdb.iat[row, 1])\n",
    "            ccdb.iat[row, 1] = ccdb.iat[row, 1].replace(string, \"\")\n",
    "            print(ccdb.iat[row, 1])\n",
    "            ccdb.iat[row, 2] = 'Conquest Cyber'\n",
    "    for string in company2:\n",
    "\n",
    "        if string in str(ccdb.iat[(row), 1]):\n",
    "            print(ccdb.iat[row, 1])\n",
    "            ccdb.iat[row, 1] = ccdb.iat[row, 1].replace(string, \"\")\n",
    "            print(ccdb.iat[row, 1])\n",
    "            ccdb.iat[row, 2] = 'UDT'"
   ]
  },
  {
   "cell_type": "code",
   "execution_count": 17,
   "metadata": {},
   "outputs": [
    {
     "output_type": "execute_result",
     "data": {
      "text/plain": [
       "              Name                                                Title  \\\n",
       "0    Henry Fleches                                                 CEO    \n",
       "1    Carmen Brooks                        Executive Operations Manager    \n",
       "2  Benjamin Tosado       Senior Vice President -Digital Transformation    \n",
       "3     Devin Thomas                                         SOC Analyst    \n",
       "4        Lily Ford  Strategy Consultant  I CMMC Registered Practitioner   \n",
       "\n",
       "          Company  \n",
       "0             UDT  \n",
       "1  Conquest Cyber  \n",
       "2  Conquest Cyber  \n",
       "3  Conquest Cyber  \n",
       "4  Conquest Cyber  "
      ],
      "text/html": "<div>\n<style scoped>\n    .dataframe tbody tr th:only-of-type {\n        vertical-align: middle;\n    }\n\n    .dataframe tbody tr th {\n        vertical-align: top;\n    }\n\n    .dataframe thead th {\n        text-align: right;\n    }\n</style>\n<table border=\"1\" class=\"dataframe\">\n  <thead>\n    <tr style=\"text-align: right;\">\n      <th></th>\n      <th>Name</th>\n      <th>Title</th>\n      <th>Company</th>\n    </tr>\n  </thead>\n  <tbody>\n    <tr>\n      <th>0</th>\n      <td>Henry Fleches</td>\n      <td>CEO</td>\n      <td>UDT</td>\n    </tr>\n    <tr>\n      <th>1</th>\n      <td>Carmen Brooks</td>\n      <td>Executive Operations Manager</td>\n      <td>Conquest Cyber</td>\n    </tr>\n    <tr>\n      <th>2</th>\n      <td>Benjamin Tosado</td>\n      <td>Senior Vice President -Digital Transformation</td>\n      <td>Conquest Cyber</td>\n    </tr>\n    <tr>\n      <th>3</th>\n      <td>Devin Thomas</td>\n      <td>SOC Analyst</td>\n      <td>Conquest Cyber</td>\n    </tr>\n    <tr>\n      <th>4</th>\n      <td>Lily Ford</td>\n      <td>Strategy Consultant  I CMMC Registered Practitioner</td>\n      <td>Conquest Cyber</td>\n    </tr>\n  </tbody>\n</table>\n</div>"
     },
     "metadata": {},
     "execution_count": 17
    }
   ],
   "source": [
    "ccdb.head()"
   ]
  },
  {
   "cell_type": "code",
   "execution_count": 18,
   "metadata": {},
   "outputs": [],
   "source": [
    "ccdb.to_csv(\"conquest_data2.csv\", index=False)"
   ]
  },
  {
   "cell_type": "code",
   "execution_count": 245,
   "metadata": {},
   "outputs": [
    {
     "output_type": "execute_result",
     "data": {
      "text/plain": [
       "array(['CEO ', 'Manager, Engagement Management Office ',\n",
       "       'Cyber Threat Intelligence Analyst ',\n",
       "       'Senior Vice President -Digital Transformation ',\n",
       "       'Executive Operations Manager ',\n",
       "       'Helping Organizations Achieve CMMC Compliance', 'Vice President ',\n",
       "       'SVP of Security Strategy ', 'SOC Analyst ',\n",
       "       'Marketing Specialist ',\n",
       "       'Strategy Consultant | Helping DoD Contractors with Security Services - CMMC / NIST 800-171 / DFARS',\n",
       "       'Operations Manager ', 'Engagement Manager ',\n",
       "       'Cyber Security Analyst', 'SOC Analyst | ', 'Security Analyst ',\n",
       "       'Ensuring cyber resiliency for the sectors critical to our way of life',\n",
       "       'Senior Director of Advanced Technologies ',\n",
       "       'Director of Consulting ', 'Product Development Engineer ',\n",
       "       'Product Designer ', 'Strategy Consultant ',\n",
       "       'JR Stratregic Growth Analyst at ConQuest Federal',\n",
       "       'Software Engineering student', 'User Experience Designer ',\n",
       "       'Executive Director of Strategic Cyber Operations (SCyOps) ',\n",
       "       'Lead Strategy Consultant ', 'Jr. GRC Consultant ',\n",
       "       'Manager of Product Development ',\n",
       "       'Building security products ...', 'Engineering Team Lead ',\n",
       "       'GRC Consultant ', 'DTX Intern ',\n",
       "       'Cyber Risk Analyst  | IT & Cybersecurity 👩🏽\\u200d🎓 @ Illinois Tech | President of WiCyS @ Illinois Tech',\n",
       "       'Governance, Risk, & Compliance (GRC)', 'Data Security Engineer',\n",
       "       'Senior SOC Analyst ', 'Cyber Security Analyst ',\n",
       "       'Security Operations Center Analyst ', 'Sr. Security Engineer ',\n",
       "       'Jr. Cloud Engineer ', 'Security Engineer ',\n",
       "       'MS 365 Solution Architect focusing on Digital Transformation ',\n",
       "       'Channel Manager ',\n",
       "       '🎖 US Army Veteran 🎖️ Infrastructure | Cloud (AWS & Azure) | Security & Compliance | IT Project Management | Creative SME | Artist | Technology Advocate',\n",
       "       'Lead Software Developer Manager at ', 'ARMED GRC Consultant ',\n",
       "       'Senior Security Engineer ',\n",
       "       'Linux Security Engineer | Penetration Tester | Experience with Java, Python & Industry Security Tools',\n",
       "       'Web Developer, UI/JavaScript Engineer', 'Analyst at ConQuest',\n",
       "       'Senior Automation Engineer ', 'Senior Security Analyst ',\n",
       "       'Cyber Security Consultant ', 'Senior Product Engineer ',\n",
       "       'Compliance (AML/KYC)', 'Product Engineer ',\n",
       "       'Cloud Security Engineer ', 'DevSecOps Engineer ',\n",
       "       'Senior Application Security Engineer ',\n",
       "       'Security Engineer at ConQuest',\n",
       "       'Office 365 / Azure Security SME ',\n",
       "       'Governance, Risk and Compliance Consultant ',\n",
       "       'Sr. Director of Product Engineering',\n",
       "       'Talent Acquisition Specialist ',\n",
       "       'Cyber Operations Manager  | CISSP, CySA+',\n",
       "       'Cyber Operations Manager ',\n",
       "       'Lead Security Analyst  | CEH, CMMC-AB RP',\n",
       "       'Help Desk Technician ', 'Servicenow Engineer ',\n",
       "       'Security Consultant '], dtype=object)"
      ]
     },
     "metadata": {},
     "execution_count": 245
    }
   ],
   "source": [
    "ccdb.Title.unique()"
   ]
  },
  {
   "cell_type": "code",
   "execution_count": 254,
   "metadata": {},
   "outputs": [
    {
     "output_type": "execute_result",
     "data": {
      "text/plain": [
       "Engagement Manager                                                                                                                                         4\n",
       "Security Engineer                                                                                                                                          3\n",
       "Security Operations Center Analyst                                                                                                                         3\n",
       "SOC Analyst                                                                                                                                                2\n",
       "Strategy Consultant                                                                                                                                        2\n",
       "Senior SOC Analyst                                                                                                                                         2\n",
       "MS 365 Solution Architect focusing on Digital Transformation                                                                                               1\n",
       "Analyst at ConQuest                                                                                                                                        1\n",
       "Cyber Operations Manager  | CISSP, CySA+                                                                                                                   1\n",
       "Engineering Team Lead                                                                                                                                      1\n",
       "JR Stratregic Growth Analyst at ConQuest Federal                                                                                                           1\n",
       "Cyber Threat Intelligence Analyst                                                                                                                          1\n",
       "🎖 US Army Veteran 🎖️ Infrastructure | Cloud (AWS & Azure) | Security & Compliance | IT Project Management | Creative SME | Artist | Technology Advocate    1\n",
       "Governance, Risk, & Compliance (GRC)                                                                                                                       1\n",
       "Senior Application Security Engineer                                                                                                                       1\n",
       "Cyber Security Analyst                                                                                                                                     1\n",
       "Jr. GRC Consultant                                                                                                                                         1\n",
       "Marketing Specialist                                                                                                                                       1\n",
       "Jr. Cloud Engineer                                                                                                                                         1\n",
       "Governance, Risk and Compliance Consultant                                                                                                                 1\n",
       "Name: Title, dtype: int64"
      ]
     },
     "metadata": {},
     "execution_count": 254
    }
   ],
   "source": [
    "ccdb[\"Title\"].value_counts().head(20)"
   ]
  },
  {
   "cell_type": "code",
   "execution_count": null,
   "metadata": {},
   "outputs": [],
   "source": []
  }
 ]
}