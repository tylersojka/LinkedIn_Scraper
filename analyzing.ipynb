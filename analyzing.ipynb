{
 "metadata": {
  "language_info": {
   "codemirror_mode": {
    "name": "ipython",
    "version": 3
   },
   "file_extension": ".py",
   "mimetype": "text/x-python",
   "name": "python",
   "nbconvert_exporter": "python",
   "pygments_lexer": "ipython3",
   "version": "3.9.2"
  },
  "orig_nbformat": 2,
  "kernelspec": {
   "name": "python39264bitworkconda83f45b08e55e4ff48b5d50867a966644",
   "display_name": "Python 3.9.2 64-bit ('work': conda)",
   "language": "python"
  }
 },
 "nbformat": 4,
 "nbformat_minor": 2,
 "cells": [
  {
   "cell_type": "code",
   "execution_count": 2,
   "metadata": {},
   "outputs": [],
   "source": [
    "import pandas as pd\n",
    "import matplotlib.pyplot as plt\n",
    "import plotly.express as px"
   ]
  },
  {
   "cell_type": "code",
   "execution_count": 3,
   "metadata": {},
   "outputs": [],
   "source": [
    "# read in csv\n",
    "ccdb = pd.read_csv('conquest_data_cleaned.csv')\n",
    "# fill cert nan with ''\n",
    "ccdb[\"Certifications\"] = ccdb[\"Certifications\"].fillna(\"\")\n",
    "# select only rows with a title\n",
    "ccdb = ccdb[ccdb['Title'].notna()]"
   ]
  },
  {
   "cell_type": "code",
   "execution_count": 4,
   "metadata": {},
   "outputs": [
    {
     "output_type": "execute_result",
     "data": {
      "text/plain": [
       "                    Name                                          Title  \\\n",
       "0          Henry Fleches                                            CEO   \n",
       "1   Allison Primack, PMP                             Engagement Manager   \n",
       "2    Cherie Courtemanche              Cyber Threat Intelligence Analyst   \n",
       "3        Benjamin Tosado  Senior Vice President -Digital Transformation   \n",
       "4          Carmen Brooks                   Executive Operations Manager   \n",
       "..                   ...                                            ...   \n",
       "76       Austin Phillips                       Cyber Operations Manager   \n",
       "77      Eliezer Sandifer                          Lead Security Analyst   \n",
       "78       Manuel Luquetta                           Help Desk Technician   \n",
       "79           Syed H Moin                            Servicenow Engineer   \n",
       "80      Cristian Jimenez                            Security Consultant   \n",
       "\n",
       "           Company   Certifications  \n",
       "0              UDT                   \n",
       "1   Conquest Cyber                   \n",
       "2   Conquest Cyber                   \n",
       "3   Conquest Cyber                   \n",
       "4   Conquest Cyber                   \n",
       "..             ...              ...  \n",
       "76  Conquest Cyber                   \n",
       "77  Conquest Cyber  CEH, CMMC-AB RP  \n",
       "78  Conquest Cyber                   \n",
       "79  Conquest Cyber                   \n",
       "80  Conquest Cyber                   \n",
       "\n",
       "[77 rows x 4 columns]"
      ],
      "text/html": "<div>\n<style scoped>\n    .dataframe tbody tr th:only-of-type {\n        vertical-align: middle;\n    }\n\n    .dataframe tbody tr th {\n        vertical-align: top;\n    }\n\n    .dataframe thead th {\n        text-align: right;\n    }\n</style>\n<table border=\"1\" class=\"dataframe\">\n  <thead>\n    <tr style=\"text-align: right;\">\n      <th></th>\n      <th>Name</th>\n      <th>Title</th>\n      <th>Company</th>\n      <th>Certifications</th>\n    </tr>\n  </thead>\n  <tbody>\n    <tr>\n      <th>0</th>\n      <td>Henry Fleches</td>\n      <td>CEO</td>\n      <td>UDT</td>\n      <td></td>\n    </tr>\n    <tr>\n      <th>1</th>\n      <td>Allison Primack, PMP</td>\n      <td>Engagement Manager</td>\n      <td>Conquest Cyber</td>\n      <td></td>\n    </tr>\n    <tr>\n      <th>2</th>\n      <td>Cherie Courtemanche</td>\n      <td>Cyber Threat Intelligence Analyst</td>\n      <td>Conquest Cyber</td>\n      <td></td>\n    </tr>\n    <tr>\n      <th>3</th>\n      <td>Benjamin Tosado</td>\n      <td>Senior Vice President -Digital Transformation</td>\n      <td>Conquest Cyber</td>\n      <td></td>\n    </tr>\n    <tr>\n      <th>4</th>\n      <td>Carmen Brooks</td>\n      <td>Executive Operations Manager</td>\n      <td>Conquest Cyber</td>\n      <td></td>\n    </tr>\n    <tr>\n      <th>...</th>\n      <td>...</td>\n      <td>...</td>\n      <td>...</td>\n      <td>...</td>\n    </tr>\n    <tr>\n      <th>76</th>\n      <td>Austin Phillips</td>\n      <td>Cyber Operations Manager</td>\n      <td>Conquest Cyber</td>\n      <td></td>\n    </tr>\n    <tr>\n      <th>77</th>\n      <td>Eliezer Sandifer</td>\n      <td>Lead Security Analyst</td>\n      <td>Conquest Cyber</td>\n      <td>CEH, CMMC-AB RP</td>\n    </tr>\n    <tr>\n      <th>78</th>\n      <td>Manuel Luquetta</td>\n      <td>Help Desk Technician</td>\n      <td>Conquest Cyber</td>\n      <td></td>\n    </tr>\n    <tr>\n      <th>79</th>\n      <td>Syed H Moin</td>\n      <td>Servicenow Engineer</td>\n      <td>Conquest Cyber</td>\n      <td></td>\n    </tr>\n    <tr>\n      <th>80</th>\n      <td>Cristian Jimenez</td>\n      <td>Security Consultant</td>\n      <td>Conquest Cyber</td>\n      <td></td>\n    </tr>\n  </tbody>\n</table>\n<p>77 rows × 4 columns</p>\n</div>"
     },
     "metadata": {},
     "execution_count": 4
    }
   ],
   "source": [
    "ccdb"
   ]
  },
  {
   "cell_type": "code",
   "execution_count": 8,
   "metadata": {},
   "outputs": [
    {
     "output_type": "execute_result",
     "data": {
      "text/plain": [
       "Security Operations Center Analyst               6\n",
       "Engagement Manager                               5\n",
       "Security Engineer                                4\n",
       "Strategy Consultant                              3\n",
       "Cyber Operations Manager                         2\n",
       "Cyber Security Analyst                           2\n",
       "Jr. GRC Consultant                               1\n",
       "JR Stratregic Growth Analyst                     1\n",
       "Software Engineering student                     1\n",
       "User Experience Designer                         1\n",
       "Sr. Security Engineer                            1\n",
       "Channel Manager                                  1\n",
       "Cloud Security Engineer                          1\n",
       "Lead Software Developer Manager                  1\n",
       "Governance, Risk and Compliance Consultant       1\n",
       "Data Security Engineer                           1\n",
       "Senior Product Engineer                          1\n",
       "Marketing Specialist                             1\n",
       "Sr. Director of Product Engineering              1\n",
       "DevSecOps Engineer                               1\n",
       "Senior SOC Analyst                               1\n",
       "Manager of Product Development                   1\n",
       "Lead Security Analyst                            1\n",
       "Lead Strategy Consultant                         1\n",
       "Cyber Threat Intelligence Analyst                1\n",
       "Vice President                                   1\n",
       "Product Development Engineer                     1\n",
       "Engineering Team Lead                            1\n",
       "Product Designer                                 1\n",
       "Security Analyst                                 1\n",
       "Security Consultant                              1\n",
       "Senior Security Analyst                          1\n",
       "Jr. Cloud Engineer                               1\n",
       "Compliance                                       1\n",
       "Senior Director of Advanced Technologies         1\n",
       "Senior Vice President -Digital Transformation    1\n",
       "Cyber Risk Analyst                               1\n",
       "Senior Security Engineer                         1\n",
       "SVP of Security Strategy                         1\n",
       "Executive Operations Manager                     1\n",
       "Name: Title, dtype: int64"
      ]
     },
     "metadata": {},
     "execution_count": 8
    }
   ],
   "source": [
    "ccdb['Title'].value_counts().head(40)"
   ]
  },
  {
   "cell_type": "code",
   "execution_count": 4,
   "metadata": {},
   "outputs": [
    {
     "output_type": "execute_result",
     "data": {
      "text/plain": [
       "<AxesSubplot:>"
      ]
     },
     "metadata": {},
     "execution_count": 4
    },
    {
     "output_type": "display_data",
     "data": {
      "text/plain": "<Figure size 432x288 with 1 Axes>",
      "image/svg+xml": "<?xml version=\"1.0\" encoding=\"utf-8\" standalone=\"no\"?>\n<!DOCTYPE svg PUBLIC \"-//W3C//DTD SVG 1.1//EN\"\n  \"http://www.w3.org/Graphics/SVG/1.1/DTD/svg11.dtd\">\n<svg height=\"415.207187pt\" version=\"1.1\" viewBox=\"0 0 362.5625 415.207187\" width=\"362.5625pt\" xmlns=\"http://www.w3.org/2000/svg\" xmlns:xlink=\"http://www.w3.org/1999/xlink\">\n <metadata>\n  <rdf:RDF xmlns:cc=\"http://creativecommons.org/ns#\" xmlns:dc=\"http://purl.org/dc/elements/1.1/\" xmlns:rdf=\"http://www.w3.org/1999/02/22-rdf-syntax-ns#\">\n   <cc:Work>\n    <dc:type rdf:resource=\"http://purl.org/dc/dcmitype/StillImage\"/>\n    <dc:date>2021-03-28T09:10:34.221585</dc:date>\n    <dc:format>image/svg+xml</dc:format>\n    <dc:creator>\n     <cc:Agent>\n      <dc:title>Matplotlib v3.4.0, https://matplotlib.org/</dc:title>\n     </cc:Agent>\n    </dc:creator>\n   </cc:Work>\n  </rdf:RDF>\n </metadata>\n <defs>\n  <style type=\"text/css\">*{stroke-linecap:butt;stroke-linejoin:round;}</style>\n </defs>\n <g id=\"figure_1\">\n  <g id=\"patch_1\">\n   <path d=\"M 0 415.207187 \nL 362.5625 415.207187 \nL 362.5625 0 \nL 0 0 \nz\n\" style=\"fill:none;\"/>\n  </g>\n  <g id=\"axes_1\">\n   <g id=\"patch_2\">\n    <path d=\"M 20.5625 224.64 \nL 355.3625 224.64 \nL 355.3625 7.2 \nL 20.5625 7.2 \nz\n\" style=\"fill:#ffffff;\"/>\n   </g>\n   <g id=\"patch_3\">\n    <path clip-path=\"url(#pa8ea33c70f)\" d=\"M 28.9325 224.64 \nL 45.6725 224.64 \nL 45.6725 17.554286 \nL 28.9325 17.554286 \nz\n\" style=\"fill:#1f77b4;\"/>\n   </g>\n   <g id=\"patch_4\">\n    <path clip-path=\"url(#pa8ea33c70f)\" d=\"M 62.4125 224.64 \nL 79.1525 224.64 \nL 79.1525 52.068571 \nL 62.4125 52.068571 \nz\n\" style=\"fill:#1f77b4;\"/>\n   </g>\n   <g id=\"patch_5\">\n    <path clip-path=\"url(#pa8ea33c70f)\" d=\"M 95.8925 224.64 \nL 112.6325 224.64 \nL 112.6325 86.582857 \nL 95.8925 86.582857 \nz\n\" style=\"fill:#1f77b4;\"/>\n   </g>\n   <g id=\"patch_6\">\n    <path clip-path=\"url(#pa8ea33c70f)\" d=\"M 129.3725 224.64 \nL 146.1125 224.64 \nL 146.1125 121.097143 \nL 129.3725 121.097143 \nz\n\" style=\"fill:#1f77b4;\"/>\n   </g>\n   <g id=\"patch_7\">\n    <path clip-path=\"url(#pa8ea33c70f)\" d=\"M 162.8525 224.64 \nL 179.5925 224.64 \nL 179.5925 155.611429 \nL 162.8525 155.611429 \nz\n\" style=\"fill:#1f77b4;\"/>\n   </g>\n   <g id=\"patch_8\">\n    <path clip-path=\"url(#pa8ea33c70f)\" d=\"M 196.3325 224.64 \nL 213.0725 224.64 \nL 213.0725 155.611429 \nL 196.3325 155.611429 \nz\n\" style=\"fill:#1f77b4;\"/>\n   </g>\n   <g id=\"patch_9\">\n    <path clip-path=\"url(#pa8ea33c70f)\" d=\"M 229.8125 224.64 \nL 246.5525 224.64 \nL 246.5525 190.125714 \nL 229.8125 190.125714 \nz\n\" style=\"fill:#1f77b4;\"/>\n   </g>\n   <g id=\"patch_10\">\n    <path clip-path=\"url(#pa8ea33c70f)\" d=\"M 263.2925 224.64 \nL 280.0325 224.64 \nL 280.0325 190.125714 \nL 263.2925 190.125714 \nz\n\" style=\"fill:#1f77b4;\"/>\n   </g>\n   <g id=\"patch_11\">\n    <path clip-path=\"url(#pa8ea33c70f)\" d=\"M 296.7725 224.64 \nL 313.5125 224.64 \nL 313.5125 190.125714 \nL 296.7725 190.125714 \nz\n\" style=\"fill:#1f77b4;\"/>\n   </g>\n   <g id=\"patch_12\">\n    <path clip-path=\"url(#pa8ea33c70f)\" d=\"M 330.2525 224.64 \nL 346.9925 224.64 \nL 346.9925 190.125714 \nL 330.2525 190.125714 \nz\n\" style=\"fill:#1f77b4;\"/>\n   </g>\n   <g id=\"matplotlib.axis_1\">\n    <g id=\"xtick_1\">\n     <g id=\"line2d_1\">\n      <defs>\n       <path d=\"M 0 0 \nL 0 3.5 \n\" id=\"me3659fec26\" style=\"stroke:#000000;stroke-width:0.8;\"/>\n      </defs>\n      <g>\n       <use style=\"stroke:#000000;stroke-width:0.8;\" x=\"37.3025\" xlink:href=\"#me3659fec26\" y=\"224.64\"/>\n      </g>\n     </g>\n     <g id=\"text_1\">\n      <!-- Security Operations Center Analyst -->\n      <g transform=\"translate(40.061875 408.007187)rotate(-90)scale(0.1 -0.1)\">\n       <defs>\n        <path d=\"M 3425 4513 \nL 3425 3897 \nQ 3066 4069 2747 4153 \nQ 2428 4238 2131 4238 \nQ 1616 4238 1336 4038 \nQ 1056 3838 1056 3469 \nQ 1056 3159 1242 3001 \nQ 1428 2844 1947 2747 \nL 2328 2669 \nQ 3034 2534 3370 2195 \nQ 3706 1856 3706 1288 \nQ 3706 609 3251 259 \nQ 2797 -91 1919 -91 \nQ 1588 -91 1214 -16 \nQ 841 59 441 206 \nL 441 856 \nQ 825 641 1194 531 \nQ 1563 422 1919 422 \nQ 2459 422 2753 634 \nQ 3047 847 3047 1241 \nQ 3047 1584 2836 1778 \nQ 2625 1972 2144 2069 \nL 1759 2144 \nQ 1053 2284 737 2584 \nQ 422 2884 422 3419 \nQ 422 4038 858 4394 \nQ 1294 4750 2059 4750 \nQ 2388 4750 2728 4690 \nQ 3069 4631 3425 4513 \nz\n\" id=\"DejaVuSans-53\" transform=\"scale(0.015625)\"/>\n        <path d=\"M 3597 1894 \nL 3597 1613 \nL 953 1613 \nQ 991 1019 1311 708 \nQ 1631 397 2203 397 \nQ 2534 397 2845 478 \nQ 3156 559 3463 722 \nL 3463 178 \nQ 3153 47 2828 -22 \nQ 2503 -91 2169 -91 \nQ 1331 -91 842 396 \nQ 353 884 353 1716 \nQ 353 2575 817 3079 \nQ 1281 3584 2069 3584 \nQ 2775 3584 3186 3129 \nQ 3597 2675 3597 1894 \nz\nM 3022 2063 \nQ 3016 2534 2758 2815 \nQ 2500 3097 2075 3097 \nQ 1594 3097 1305 2825 \nQ 1016 2553 972 2059 \nL 3022 2063 \nz\n\" id=\"DejaVuSans-65\" transform=\"scale(0.015625)\"/>\n        <path d=\"M 3122 3366 \nL 3122 2828 \nQ 2878 2963 2633 3030 \nQ 2388 3097 2138 3097 \nQ 1578 3097 1268 2742 \nQ 959 2388 959 1747 \nQ 959 1106 1268 751 \nQ 1578 397 2138 397 \nQ 2388 397 2633 464 \nQ 2878 531 3122 666 \nL 3122 134 \nQ 2881 22 2623 -34 \nQ 2366 -91 2075 -91 \nQ 1284 -91 818 406 \nQ 353 903 353 1747 \nQ 353 2603 823 3093 \nQ 1294 3584 2113 3584 \nQ 2378 3584 2631 3529 \nQ 2884 3475 3122 3366 \nz\n\" id=\"DejaVuSans-63\" transform=\"scale(0.015625)\"/>\n        <path d=\"M 544 1381 \nL 544 3500 \nL 1119 3500 \nL 1119 1403 \nQ 1119 906 1312 657 \nQ 1506 409 1894 409 \nQ 2359 409 2629 706 \nQ 2900 1003 2900 1516 \nL 2900 3500 \nL 3475 3500 \nL 3475 0 \nL 2900 0 \nL 2900 538 \nQ 2691 219 2414 64 \nQ 2138 -91 1772 -91 \nQ 1169 -91 856 284 \nQ 544 659 544 1381 \nz\nM 1991 3584 \nL 1991 3584 \nz\n\" id=\"DejaVuSans-75\" transform=\"scale(0.015625)\"/>\n        <path d=\"M 2631 2963 \nQ 2534 3019 2420 3045 \nQ 2306 3072 2169 3072 \nQ 1681 3072 1420 2755 \nQ 1159 2438 1159 1844 \nL 1159 0 \nL 581 0 \nL 581 3500 \nL 1159 3500 \nL 1159 2956 \nQ 1341 3275 1631 3429 \nQ 1922 3584 2338 3584 \nQ 2397 3584 2469 3576 \nQ 2541 3569 2628 3553 \nL 2631 2963 \nz\n\" id=\"DejaVuSans-72\" transform=\"scale(0.015625)\"/>\n        <path d=\"M 603 3500 \nL 1178 3500 \nL 1178 0 \nL 603 0 \nL 603 3500 \nz\nM 603 4863 \nL 1178 4863 \nL 1178 4134 \nL 603 4134 \nL 603 4863 \nz\n\" id=\"DejaVuSans-69\" transform=\"scale(0.015625)\"/>\n        <path d=\"M 1172 4494 \nL 1172 3500 \nL 2356 3500 \nL 2356 3053 \nL 1172 3053 \nL 1172 1153 \nQ 1172 725 1289 603 \nQ 1406 481 1766 481 \nL 2356 481 \nL 2356 0 \nL 1766 0 \nQ 1100 0 847 248 \nQ 594 497 594 1153 \nL 594 3053 \nL 172 3053 \nL 172 3500 \nL 594 3500 \nL 594 4494 \nL 1172 4494 \nz\n\" id=\"DejaVuSans-74\" transform=\"scale(0.015625)\"/>\n        <path d=\"M 2059 -325 \nQ 1816 -950 1584 -1140 \nQ 1353 -1331 966 -1331 \nL 506 -1331 \nL 506 -850 \nL 844 -850 \nQ 1081 -850 1212 -737 \nQ 1344 -625 1503 -206 \nL 1606 56 \nL 191 3500 \nL 800 3500 \nL 1894 763 \nL 2988 3500 \nL 3597 3500 \nL 2059 -325 \nz\n\" id=\"DejaVuSans-79\" transform=\"scale(0.015625)\"/>\n        <path id=\"DejaVuSans-20\" transform=\"scale(0.015625)\"/>\n        <path d=\"M 2522 4238 \nQ 1834 4238 1429 3725 \nQ 1025 3213 1025 2328 \nQ 1025 1447 1429 934 \nQ 1834 422 2522 422 \nQ 3209 422 3611 934 \nQ 4013 1447 4013 2328 \nQ 4013 3213 3611 3725 \nQ 3209 4238 2522 4238 \nz\nM 2522 4750 \nQ 3503 4750 4090 4092 \nQ 4678 3434 4678 2328 \nQ 4678 1225 4090 567 \nQ 3503 -91 2522 -91 \nQ 1538 -91 948 565 \nQ 359 1222 359 2328 \nQ 359 3434 948 4092 \nQ 1538 4750 2522 4750 \nz\n\" id=\"DejaVuSans-4f\" transform=\"scale(0.015625)\"/>\n        <path d=\"M 1159 525 \nL 1159 -1331 \nL 581 -1331 \nL 581 3500 \nL 1159 3500 \nL 1159 2969 \nQ 1341 3281 1617 3432 \nQ 1894 3584 2278 3584 \nQ 2916 3584 3314 3078 \nQ 3713 2572 3713 1747 \nQ 3713 922 3314 415 \nQ 2916 -91 2278 -91 \nQ 1894 -91 1617 61 \nQ 1341 213 1159 525 \nz\nM 3116 1747 \nQ 3116 2381 2855 2742 \nQ 2594 3103 2138 3103 \nQ 1681 3103 1420 2742 \nQ 1159 2381 1159 1747 \nQ 1159 1113 1420 752 \nQ 1681 391 2138 391 \nQ 2594 391 2855 752 \nQ 3116 1113 3116 1747 \nz\n\" id=\"DejaVuSans-70\" transform=\"scale(0.015625)\"/>\n        <path d=\"M 2194 1759 \nQ 1497 1759 1228 1600 \nQ 959 1441 959 1056 \nQ 959 750 1161 570 \nQ 1363 391 1709 391 \nQ 2188 391 2477 730 \nQ 2766 1069 2766 1631 \nL 2766 1759 \nL 2194 1759 \nz\nM 3341 1997 \nL 3341 0 \nL 2766 0 \nL 2766 531 \nQ 2569 213 2275 61 \nQ 1981 -91 1556 -91 \nQ 1019 -91 701 211 \nQ 384 513 384 1019 \nQ 384 1609 779 1909 \nQ 1175 2209 1959 2209 \nL 2766 2209 \nL 2766 2266 \nQ 2766 2663 2505 2880 \nQ 2244 3097 1772 3097 \nQ 1472 3097 1187 3025 \nQ 903 2953 641 2809 \nL 641 3341 \nQ 956 3463 1253 3523 \nQ 1550 3584 1831 3584 \nQ 2591 3584 2966 3190 \nQ 3341 2797 3341 1997 \nz\n\" id=\"DejaVuSans-61\" transform=\"scale(0.015625)\"/>\n        <path d=\"M 1959 3097 \nQ 1497 3097 1228 2736 \nQ 959 2375 959 1747 \nQ 959 1119 1226 758 \nQ 1494 397 1959 397 \nQ 2419 397 2687 759 \nQ 2956 1122 2956 1747 \nQ 2956 2369 2687 2733 \nQ 2419 3097 1959 3097 \nz\nM 1959 3584 \nQ 2709 3584 3137 3096 \nQ 3566 2609 3566 1747 \nQ 3566 888 3137 398 \nQ 2709 -91 1959 -91 \nQ 1206 -91 779 398 \nQ 353 888 353 1747 \nQ 353 2609 779 3096 \nQ 1206 3584 1959 3584 \nz\n\" id=\"DejaVuSans-6f\" transform=\"scale(0.015625)\"/>\n        <path d=\"M 3513 2113 \nL 3513 0 \nL 2938 0 \nL 2938 2094 \nQ 2938 2591 2744 2837 \nQ 2550 3084 2163 3084 \nQ 1697 3084 1428 2787 \nQ 1159 2491 1159 1978 \nL 1159 0 \nL 581 0 \nL 581 3500 \nL 1159 3500 \nL 1159 2956 \nQ 1366 3272 1645 3428 \nQ 1925 3584 2291 3584 \nQ 2894 3584 3203 3211 \nQ 3513 2838 3513 2113 \nz\n\" id=\"DejaVuSans-6e\" transform=\"scale(0.015625)\"/>\n        <path d=\"M 2834 3397 \nL 2834 2853 \nQ 2591 2978 2328 3040 \nQ 2066 3103 1784 3103 \nQ 1356 3103 1142 2972 \nQ 928 2841 928 2578 \nQ 928 2378 1081 2264 \nQ 1234 2150 1697 2047 \nL 1894 2003 \nQ 2506 1872 2764 1633 \nQ 3022 1394 3022 966 \nQ 3022 478 2636 193 \nQ 2250 -91 1575 -91 \nQ 1294 -91 989 -36 \nQ 684 19 347 128 \nL 347 722 \nQ 666 556 975 473 \nQ 1284 391 1588 391 \nQ 1994 391 2212 530 \nQ 2431 669 2431 922 \nQ 2431 1156 2273 1281 \nQ 2116 1406 1581 1522 \nL 1381 1569 \nQ 847 1681 609 1914 \nQ 372 2147 372 2553 \nQ 372 3047 722 3315 \nQ 1072 3584 1716 3584 \nQ 2034 3584 2315 3537 \nQ 2597 3491 2834 3397 \nz\n\" id=\"DejaVuSans-73\" transform=\"scale(0.015625)\"/>\n        <path d=\"M 4122 4306 \nL 4122 3641 \nQ 3803 3938 3442 4084 \nQ 3081 4231 2675 4231 \nQ 1875 4231 1450 3742 \nQ 1025 3253 1025 2328 \nQ 1025 1406 1450 917 \nQ 1875 428 2675 428 \nQ 3081 428 3442 575 \nQ 3803 722 4122 1019 \nL 4122 359 \nQ 3791 134 3420 21 \nQ 3050 -91 2638 -91 \nQ 1578 -91 968 557 \nQ 359 1206 359 2328 \nQ 359 3453 968 4101 \nQ 1578 4750 2638 4750 \nQ 3056 4750 3426 4639 \nQ 3797 4528 4122 4306 \nz\n\" id=\"DejaVuSans-43\" transform=\"scale(0.015625)\"/>\n        <path d=\"M 2188 4044 \nL 1331 1722 \nL 3047 1722 \nL 2188 4044 \nz\nM 1831 4666 \nL 2547 4666 \nL 4325 0 \nL 3669 0 \nL 3244 1197 \nL 1141 1197 \nL 716 0 \nL 50 0 \nL 1831 4666 \nz\n\" id=\"DejaVuSans-41\" transform=\"scale(0.015625)\"/>\n        <path d=\"M 603 4863 \nL 1178 4863 \nL 1178 0 \nL 603 0 \nL 603 4863 \nz\n\" id=\"DejaVuSans-6c\" transform=\"scale(0.015625)\"/>\n       </defs>\n       <use xlink:href=\"#DejaVuSans-53\"/>\n       <use x=\"63.476562\" xlink:href=\"#DejaVuSans-65\"/>\n       <use x=\"125\" xlink:href=\"#DejaVuSans-63\"/>\n       <use x=\"179.980469\" xlink:href=\"#DejaVuSans-75\"/>\n       <use x=\"243.359375\" xlink:href=\"#DejaVuSans-72\"/>\n       <use x=\"284.472656\" xlink:href=\"#DejaVuSans-69\"/>\n       <use x=\"312.255859\" xlink:href=\"#DejaVuSans-74\"/>\n       <use x=\"351.464844\" xlink:href=\"#DejaVuSans-79\"/>\n       <use x=\"410.644531\" xlink:href=\"#DejaVuSans-20\"/>\n       <use x=\"442.431641\" xlink:href=\"#DejaVuSans-4f\"/>\n       <use x=\"521.142578\" xlink:href=\"#DejaVuSans-70\"/>\n       <use x=\"584.619141\" xlink:href=\"#DejaVuSans-65\"/>\n       <use x=\"646.142578\" xlink:href=\"#DejaVuSans-72\"/>\n       <use x=\"687.255859\" xlink:href=\"#DejaVuSans-61\"/>\n       <use x=\"748.535156\" xlink:href=\"#DejaVuSans-74\"/>\n       <use x=\"787.744141\" xlink:href=\"#DejaVuSans-69\"/>\n       <use x=\"815.527344\" xlink:href=\"#DejaVuSans-6f\"/>\n       <use x=\"876.708984\" xlink:href=\"#DejaVuSans-6e\"/>\n       <use x=\"940.087891\" xlink:href=\"#DejaVuSans-73\"/>\n       <use x=\"992.1875\" xlink:href=\"#DejaVuSans-20\"/>\n       <use x=\"1023.974609\" xlink:href=\"#DejaVuSans-43\"/>\n       <use x=\"1093.798828\" xlink:href=\"#DejaVuSans-65\"/>\n       <use x=\"1155.322266\" xlink:href=\"#DejaVuSans-6e\"/>\n       <use x=\"1218.701172\" xlink:href=\"#DejaVuSans-74\"/>\n       <use x=\"1257.910156\" xlink:href=\"#DejaVuSans-65\"/>\n       <use x=\"1319.433594\" xlink:href=\"#DejaVuSans-72\"/>\n       <use x=\"1360.546875\" xlink:href=\"#DejaVuSans-20\"/>\n       <use x=\"1392.333984\" xlink:href=\"#DejaVuSans-41\"/>\n       <use x=\"1460.742188\" xlink:href=\"#DejaVuSans-6e\"/>\n       <use x=\"1524.121094\" xlink:href=\"#DejaVuSans-61\"/>\n       <use x=\"1585.400391\" xlink:href=\"#DejaVuSans-6c\"/>\n       <use x=\"1613.183594\" xlink:href=\"#DejaVuSans-79\"/>\n       <use x=\"1672.363281\" xlink:href=\"#DejaVuSans-73\"/>\n       <use x=\"1724.462891\" xlink:href=\"#DejaVuSans-74\"/>\n      </g>\n     </g>\n    </g>\n    <g id=\"xtick_2\">\n     <g id=\"line2d_2\">\n      <g>\n       <use style=\"stroke:#000000;stroke-width:0.8;\" x=\"70.7825\" xlink:href=\"#me3659fec26\" y=\"224.64\"/>\n      </g>\n     </g>\n     <g id=\"text_2\">\n      <!-- Engagement Manager -->\n      <g transform=\"translate(73.541875 342.438437)rotate(-90)scale(0.1 -0.1)\">\n       <defs>\n        <path d=\"M 628 4666 \nL 3578 4666 \nL 3578 4134 \nL 1259 4134 \nL 1259 2753 \nL 3481 2753 \nL 3481 2222 \nL 1259 2222 \nL 1259 531 \nL 3634 531 \nL 3634 0 \nL 628 0 \nL 628 4666 \nz\n\" id=\"DejaVuSans-45\" transform=\"scale(0.015625)\"/>\n        <path d=\"M 2906 1791 \nQ 2906 2416 2648 2759 \nQ 2391 3103 1925 3103 \nQ 1463 3103 1205 2759 \nQ 947 2416 947 1791 \nQ 947 1169 1205 825 \nQ 1463 481 1925 481 \nQ 2391 481 2648 825 \nQ 2906 1169 2906 1791 \nz\nM 3481 434 \nQ 3481 -459 3084 -895 \nQ 2688 -1331 1869 -1331 \nQ 1566 -1331 1297 -1286 \nQ 1028 -1241 775 -1147 \nL 775 -588 \nQ 1028 -725 1275 -790 \nQ 1522 -856 1778 -856 \nQ 2344 -856 2625 -561 \nQ 2906 -266 2906 331 \nL 2906 616 \nQ 2728 306 2450 153 \nQ 2172 0 1784 0 \nQ 1141 0 747 490 \nQ 353 981 353 1791 \nQ 353 2603 747 3093 \nQ 1141 3584 1784 3584 \nQ 2172 3584 2450 3431 \nQ 2728 3278 2906 2969 \nL 2906 3500 \nL 3481 3500 \nL 3481 434 \nz\n\" id=\"DejaVuSans-67\" transform=\"scale(0.015625)\"/>\n        <path d=\"M 3328 2828 \nQ 3544 3216 3844 3400 \nQ 4144 3584 4550 3584 \nQ 5097 3584 5394 3201 \nQ 5691 2819 5691 2113 \nL 5691 0 \nL 5113 0 \nL 5113 2094 \nQ 5113 2597 4934 2840 \nQ 4756 3084 4391 3084 \nQ 3944 3084 3684 2787 \nQ 3425 2491 3425 1978 \nL 3425 0 \nL 2847 0 \nL 2847 2094 \nQ 2847 2600 2669 2842 \nQ 2491 3084 2119 3084 \nQ 1678 3084 1418 2786 \nQ 1159 2488 1159 1978 \nL 1159 0 \nL 581 0 \nL 581 3500 \nL 1159 3500 \nL 1159 2956 \nQ 1356 3278 1631 3431 \nQ 1906 3584 2284 3584 \nQ 2666 3584 2933 3390 \nQ 3200 3197 3328 2828 \nz\n\" id=\"DejaVuSans-6d\" transform=\"scale(0.015625)\"/>\n        <path d=\"M 628 4666 \nL 1569 4666 \nL 2759 1491 \nL 3956 4666 \nL 4897 4666 \nL 4897 0 \nL 4281 0 \nL 4281 4097 \nL 3078 897 \nL 2444 897 \nL 1241 4097 \nL 1241 0 \nL 628 0 \nL 628 4666 \nz\n\" id=\"DejaVuSans-4d\" transform=\"scale(0.015625)\"/>\n       </defs>\n       <use xlink:href=\"#DejaVuSans-45\"/>\n       <use x=\"63.183594\" xlink:href=\"#DejaVuSans-6e\"/>\n       <use x=\"126.5625\" xlink:href=\"#DejaVuSans-67\"/>\n       <use x=\"190.039062\" xlink:href=\"#DejaVuSans-61\"/>\n       <use x=\"251.318359\" xlink:href=\"#DejaVuSans-67\"/>\n       <use x=\"314.794922\" xlink:href=\"#DejaVuSans-65\"/>\n       <use x=\"376.318359\" xlink:href=\"#DejaVuSans-6d\"/>\n       <use x=\"473.730469\" xlink:href=\"#DejaVuSans-65\"/>\n       <use x=\"535.253906\" xlink:href=\"#DejaVuSans-6e\"/>\n       <use x=\"598.632812\" xlink:href=\"#DejaVuSans-74\"/>\n       <use x=\"637.841797\" xlink:href=\"#DejaVuSans-20\"/>\n       <use x=\"669.628906\" xlink:href=\"#DejaVuSans-4d\"/>\n       <use x=\"755.908203\" xlink:href=\"#DejaVuSans-61\"/>\n       <use x=\"817.1875\" xlink:href=\"#DejaVuSans-6e\"/>\n       <use x=\"880.566406\" xlink:href=\"#DejaVuSans-61\"/>\n       <use x=\"941.845703\" xlink:href=\"#DejaVuSans-67\"/>\n       <use x=\"1005.322266\" xlink:href=\"#DejaVuSans-65\"/>\n       <use x=\"1066.845703\" xlink:href=\"#DejaVuSans-72\"/>\n      </g>\n     </g>\n    </g>\n    <g id=\"xtick_3\">\n     <g id=\"line2d_3\">\n      <g>\n       <use style=\"stroke:#000000;stroke-width:0.8;\" x=\"104.2625\" xlink:href=\"#me3659fec26\" y=\"224.64\"/>\n      </g>\n     </g>\n     <g id=\"text_3\">\n      <!-- Security Engineer -->\n      <g transform=\"translate(107.021875 320.42125)rotate(-90)scale(0.1 -0.1)\">\n       <use xlink:href=\"#DejaVuSans-53\"/>\n       <use x=\"63.476562\" xlink:href=\"#DejaVuSans-65\"/>\n       <use x=\"125\" xlink:href=\"#DejaVuSans-63\"/>\n       <use x=\"179.980469\" xlink:href=\"#DejaVuSans-75\"/>\n       <use x=\"243.359375\" xlink:href=\"#DejaVuSans-72\"/>\n       <use x=\"284.472656\" xlink:href=\"#DejaVuSans-69\"/>\n       <use x=\"312.255859\" xlink:href=\"#DejaVuSans-74\"/>\n       <use x=\"351.464844\" xlink:href=\"#DejaVuSans-79\"/>\n       <use x=\"410.644531\" xlink:href=\"#DejaVuSans-20\"/>\n       <use x=\"442.431641\" xlink:href=\"#DejaVuSans-45\"/>\n       <use x=\"505.615234\" xlink:href=\"#DejaVuSans-6e\"/>\n       <use x=\"568.994141\" xlink:href=\"#DejaVuSans-67\"/>\n       <use x=\"632.470703\" xlink:href=\"#DejaVuSans-69\"/>\n       <use x=\"660.253906\" xlink:href=\"#DejaVuSans-6e\"/>\n       <use x=\"723.632812\" xlink:href=\"#DejaVuSans-65\"/>\n       <use x=\"785.15625\" xlink:href=\"#DejaVuSans-65\"/>\n       <use x=\"846.679688\" xlink:href=\"#DejaVuSans-72\"/>\n      </g>\n     </g>\n    </g>\n    <g id=\"xtick_4\">\n     <g id=\"line2d_4\">\n      <g>\n       <use style=\"stroke:#000000;stroke-width:0.8;\" x=\"137.7425\" xlink:href=\"#me3659fec26\" y=\"224.64\"/>\n      </g>\n     </g>\n     <g id=\"text_4\">\n      <!-- Strategy Consultant -->\n      <g transform=\"translate(140.501875 331.736875)rotate(-90)scale(0.1 -0.1)\">\n       <use xlink:href=\"#DejaVuSans-53\"/>\n       <use x=\"63.476562\" xlink:href=\"#DejaVuSans-74\"/>\n       <use x=\"102.685547\" xlink:href=\"#DejaVuSans-72\"/>\n       <use x=\"143.798828\" xlink:href=\"#DejaVuSans-61\"/>\n       <use x=\"205.078125\" xlink:href=\"#DejaVuSans-74\"/>\n       <use x=\"244.287109\" xlink:href=\"#DejaVuSans-65\"/>\n       <use x=\"305.810547\" xlink:href=\"#DejaVuSans-67\"/>\n       <use x=\"369.287109\" xlink:href=\"#DejaVuSans-79\"/>\n       <use x=\"428.466797\" xlink:href=\"#DejaVuSans-20\"/>\n       <use x=\"460.253906\" xlink:href=\"#DejaVuSans-43\"/>\n       <use x=\"530.078125\" xlink:href=\"#DejaVuSans-6f\"/>\n       <use x=\"591.259766\" xlink:href=\"#DejaVuSans-6e\"/>\n       <use x=\"654.638672\" xlink:href=\"#DejaVuSans-73\"/>\n       <use x=\"706.738281\" xlink:href=\"#DejaVuSans-75\"/>\n       <use x=\"770.117188\" xlink:href=\"#DejaVuSans-6c\"/>\n       <use x=\"797.900391\" xlink:href=\"#DejaVuSans-74\"/>\n       <use x=\"837.109375\" xlink:href=\"#DejaVuSans-61\"/>\n       <use x=\"898.388672\" xlink:href=\"#DejaVuSans-6e\"/>\n       <use x=\"961.767578\" xlink:href=\"#DejaVuSans-74\"/>\n      </g>\n     </g>\n    </g>\n    <g id=\"xtick_5\">\n     <g id=\"line2d_5\">\n      <g>\n       <use style=\"stroke:#000000;stroke-width:0.8;\" x=\"171.2225\" xlink:href=\"#me3659fec26\" y=\"224.64\"/>\n      </g>\n     </g>\n     <g id=\"text_5\">\n      <!-- Cyber Security Analyst -->\n      <g transform=\"translate(173.981875 345.70875)rotate(-90)scale(0.1 -0.1)\">\n       <defs>\n        <path d=\"M 3116 1747 \nQ 3116 2381 2855 2742 \nQ 2594 3103 2138 3103 \nQ 1681 3103 1420 2742 \nQ 1159 2381 1159 1747 \nQ 1159 1113 1420 752 \nQ 1681 391 2138 391 \nQ 2594 391 2855 752 \nQ 3116 1113 3116 1747 \nz\nM 1159 2969 \nQ 1341 3281 1617 3432 \nQ 1894 3584 2278 3584 \nQ 2916 3584 3314 3078 \nQ 3713 2572 3713 1747 \nQ 3713 922 3314 415 \nQ 2916 -91 2278 -91 \nQ 1894 -91 1617 61 \nQ 1341 213 1159 525 \nL 1159 0 \nL 581 0 \nL 581 4863 \nL 1159 4863 \nL 1159 2969 \nz\n\" id=\"DejaVuSans-62\" transform=\"scale(0.015625)\"/>\n       </defs>\n       <use xlink:href=\"#DejaVuSans-43\"/>\n       <use x=\"69.824219\" xlink:href=\"#DejaVuSans-79\"/>\n       <use x=\"129.003906\" xlink:href=\"#DejaVuSans-62\"/>\n       <use x=\"192.480469\" xlink:href=\"#DejaVuSans-65\"/>\n       <use x=\"254.003906\" xlink:href=\"#DejaVuSans-72\"/>\n       <use x=\"295.117188\" xlink:href=\"#DejaVuSans-20\"/>\n       <use x=\"326.904297\" xlink:href=\"#DejaVuSans-53\"/>\n       <use x=\"390.380859\" xlink:href=\"#DejaVuSans-65\"/>\n       <use x=\"451.904297\" xlink:href=\"#DejaVuSans-63\"/>\n       <use x=\"506.884766\" xlink:href=\"#DejaVuSans-75\"/>\n       <use x=\"570.263672\" xlink:href=\"#DejaVuSans-72\"/>\n       <use x=\"611.376953\" xlink:href=\"#DejaVuSans-69\"/>\n       <use x=\"639.160156\" xlink:href=\"#DejaVuSans-74\"/>\n       <use x=\"678.369141\" xlink:href=\"#DejaVuSans-79\"/>\n       <use x=\"737.548828\" xlink:href=\"#DejaVuSans-20\"/>\n       <use x=\"769.335938\" xlink:href=\"#DejaVuSans-41\"/>\n       <use x=\"837.744141\" xlink:href=\"#DejaVuSans-6e\"/>\n       <use x=\"901.123047\" xlink:href=\"#DejaVuSans-61\"/>\n       <use x=\"962.402344\" xlink:href=\"#DejaVuSans-6c\"/>\n       <use x=\"990.185547\" xlink:href=\"#DejaVuSans-79\"/>\n       <use x=\"1049.365234\" xlink:href=\"#DejaVuSans-73\"/>\n       <use x=\"1101.464844\" xlink:href=\"#DejaVuSans-74\"/>\n      </g>\n     </g>\n    </g>\n    <g id=\"xtick_6\">\n     <g id=\"line2d_6\">\n      <g>\n       <use style=\"stroke:#000000;stroke-width:0.8;\" x=\"204.7025\" xlink:href=\"#me3659fec26\" y=\"224.64\"/>\n      </g>\n     </g>\n     <g id=\"text_6\">\n      <!-- Cyber Operations Manager -->\n      <g transform=\"translate(207.461875 366.32125)rotate(-90)scale(0.1 -0.1)\">\n       <use xlink:href=\"#DejaVuSans-43\"/>\n       <use x=\"69.824219\" xlink:href=\"#DejaVuSans-79\"/>\n       <use x=\"129.003906\" xlink:href=\"#DejaVuSans-62\"/>\n       <use x=\"192.480469\" xlink:href=\"#DejaVuSans-65\"/>\n       <use x=\"254.003906\" xlink:href=\"#DejaVuSans-72\"/>\n       <use x=\"295.117188\" xlink:href=\"#DejaVuSans-20\"/>\n       <use x=\"326.904297\" xlink:href=\"#DejaVuSans-4f\"/>\n       <use x=\"405.615234\" xlink:href=\"#DejaVuSans-70\"/>\n       <use x=\"469.091797\" xlink:href=\"#DejaVuSans-65\"/>\n       <use x=\"530.615234\" xlink:href=\"#DejaVuSans-72\"/>\n       <use x=\"571.728516\" xlink:href=\"#DejaVuSans-61\"/>\n       <use x=\"633.007812\" xlink:href=\"#DejaVuSans-74\"/>\n       <use x=\"672.216797\" xlink:href=\"#DejaVuSans-69\"/>\n       <use x=\"700\" xlink:href=\"#DejaVuSans-6f\"/>\n       <use x=\"761.181641\" xlink:href=\"#DejaVuSans-6e\"/>\n       <use x=\"824.560547\" xlink:href=\"#DejaVuSans-73\"/>\n       <use x=\"876.660156\" xlink:href=\"#DejaVuSans-20\"/>\n       <use x=\"908.447266\" xlink:href=\"#DejaVuSans-4d\"/>\n       <use x=\"994.726562\" xlink:href=\"#DejaVuSans-61\"/>\n       <use x=\"1056.005859\" xlink:href=\"#DejaVuSans-6e\"/>\n       <use x=\"1119.384766\" xlink:href=\"#DejaVuSans-61\"/>\n       <use x=\"1180.664062\" xlink:href=\"#DejaVuSans-67\"/>\n       <use x=\"1244.140625\" xlink:href=\"#DejaVuSans-65\"/>\n       <use x=\"1305.664062\" xlink:href=\"#DejaVuSans-72\"/>\n      </g>\n     </g>\n    </g>\n    <g id=\"xtick_7\">\n     <g id=\"line2d_7\">\n      <g>\n       <use style=\"stroke:#000000;stroke-width:0.8;\" x=\"238.1825\" xlink:href=\"#me3659fec26\" y=\"224.64\"/>\n      </g>\n     </g>\n     <g id=\"text_7\">\n      <!-- Cloud Security Engineer -->\n      <g transform=\"translate(240.941875 352.165)rotate(-90)scale(0.1 -0.1)\">\n       <defs>\n        <path d=\"M 2906 2969 \nL 2906 4863 \nL 3481 4863 \nL 3481 0 \nL 2906 0 \nL 2906 525 \nQ 2725 213 2448 61 \nQ 2172 -91 1784 -91 \nQ 1150 -91 751 415 \nQ 353 922 353 1747 \nQ 353 2572 751 3078 \nQ 1150 3584 1784 3584 \nQ 2172 3584 2448 3432 \nQ 2725 3281 2906 2969 \nz\nM 947 1747 \nQ 947 1113 1208 752 \nQ 1469 391 1925 391 \nQ 2381 391 2643 752 \nQ 2906 1113 2906 1747 \nQ 2906 2381 2643 2742 \nQ 2381 3103 1925 3103 \nQ 1469 3103 1208 2742 \nQ 947 2381 947 1747 \nz\n\" id=\"DejaVuSans-64\" transform=\"scale(0.015625)\"/>\n       </defs>\n       <use xlink:href=\"#DejaVuSans-43\"/>\n       <use x=\"69.824219\" xlink:href=\"#DejaVuSans-6c\"/>\n       <use x=\"97.607422\" xlink:href=\"#DejaVuSans-6f\"/>\n       <use x=\"158.789062\" xlink:href=\"#DejaVuSans-75\"/>\n       <use x=\"222.167969\" xlink:href=\"#DejaVuSans-64\"/>\n       <use x=\"285.644531\" xlink:href=\"#DejaVuSans-20\"/>\n       <use x=\"317.431641\" xlink:href=\"#DejaVuSans-53\"/>\n       <use x=\"380.908203\" xlink:href=\"#DejaVuSans-65\"/>\n       <use x=\"442.431641\" xlink:href=\"#DejaVuSans-63\"/>\n       <use x=\"497.412109\" xlink:href=\"#DejaVuSans-75\"/>\n       <use x=\"560.791016\" xlink:href=\"#DejaVuSans-72\"/>\n       <use x=\"601.904297\" xlink:href=\"#DejaVuSans-69\"/>\n       <use x=\"629.6875\" xlink:href=\"#DejaVuSans-74\"/>\n       <use x=\"668.896484\" xlink:href=\"#DejaVuSans-79\"/>\n       <use x=\"728.076172\" xlink:href=\"#DejaVuSans-20\"/>\n       <use x=\"759.863281\" xlink:href=\"#DejaVuSans-45\"/>\n       <use x=\"823.046875\" xlink:href=\"#DejaVuSans-6e\"/>\n       <use x=\"886.425781\" xlink:href=\"#DejaVuSans-67\"/>\n       <use x=\"949.902344\" xlink:href=\"#DejaVuSans-69\"/>\n       <use x=\"977.685547\" xlink:href=\"#DejaVuSans-6e\"/>\n       <use x=\"1041.064453\" xlink:href=\"#DejaVuSans-65\"/>\n       <use x=\"1102.587891\" xlink:href=\"#DejaVuSans-65\"/>\n       <use x=\"1164.111328\" xlink:href=\"#DejaVuSans-72\"/>\n      </g>\n     </g>\n    </g>\n    <g id=\"xtick_8\">\n     <g id=\"line2d_8\">\n      <g>\n       <use style=\"stroke:#000000;stroke-width:0.8;\" x=\"271.6625\" xlink:href=\"#me3659fec26\" y=\"224.64\"/>\n      </g>\n     </g>\n     <g id=\"text_8\">\n      <!-- Executive Operations Manager -->\n      <g transform=\"translate(274.421875 385.491562)rotate(-90)scale(0.1 -0.1)\">\n       <defs>\n        <path d=\"M 3513 3500 \nL 2247 1797 \nL 3578 0 \nL 2900 0 \nL 1881 1375 \nL 863 0 \nL 184 0 \nL 1544 1831 \nL 300 3500 \nL 978 3500 \nL 1906 2253 \nL 2834 3500 \nL 3513 3500 \nz\n\" id=\"DejaVuSans-78\" transform=\"scale(0.015625)\"/>\n        <path d=\"M 191 3500 \nL 800 3500 \nL 1894 563 \nL 2988 3500 \nL 3597 3500 \nL 2284 0 \nL 1503 0 \nL 191 3500 \nz\n\" id=\"DejaVuSans-76\" transform=\"scale(0.015625)\"/>\n       </defs>\n       <use xlink:href=\"#DejaVuSans-45\"/>\n       <use x=\"63.183594\" xlink:href=\"#DejaVuSans-78\"/>\n       <use x=\"119.238281\" xlink:href=\"#DejaVuSans-65\"/>\n       <use x=\"180.761719\" xlink:href=\"#DejaVuSans-63\"/>\n       <use x=\"235.742188\" xlink:href=\"#DejaVuSans-75\"/>\n       <use x=\"299.121094\" xlink:href=\"#DejaVuSans-74\"/>\n       <use x=\"338.330078\" xlink:href=\"#DejaVuSans-69\"/>\n       <use x=\"366.113281\" xlink:href=\"#DejaVuSans-76\"/>\n       <use x=\"425.292969\" xlink:href=\"#DejaVuSans-65\"/>\n       <use x=\"486.816406\" xlink:href=\"#DejaVuSans-20\"/>\n       <use x=\"518.603516\" xlink:href=\"#DejaVuSans-4f\"/>\n       <use x=\"597.314453\" xlink:href=\"#DejaVuSans-70\"/>\n       <use x=\"660.791016\" xlink:href=\"#DejaVuSans-65\"/>\n       <use x=\"722.314453\" xlink:href=\"#DejaVuSans-72\"/>\n       <use x=\"763.427734\" xlink:href=\"#DejaVuSans-61\"/>\n       <use x=\"824.707031\" xlink:href=\"#DejaVuSans-74\"/>\n       <use x=\"863.916016\" xlink:href=\"#DejaVuSans-69\"/>\n       <use x=\"891.699219\" xlink:href=\"#DejaVuSans-6f\"/>\n       <use x=\"952.880859\" xlink:href=\"#DejaVuSans-6e\"/>\n       <use x=\"1016.259766\" xlink:href=\"#DejaVuSans-73\"/>\n       <use x=\"1068.359375\" xlink:href=\"#DejaVuSans-20\"/>\n       <use x=\"1100.146484\" xlink:href=\"#DejaVuSans-4d\"/>\n       <use x=\"1186.425781\" xlink:href=\"#DejaVuSans-61\"/>\n       <use x=\"1247.705078\" xlink:href=\"#DejaVuSans-6e\"/>\n       <use x=\"1311.083984\" xlink:href=\"#DejaVuSans-61\"/>\n       <use x=\"1372.363281\" xlink:href=\"#DejaVuSans-67\"/>\n       <use x=\"1435.839844\" xlink:href=\"#DejaVuSans-65\"/>\n       <use x=\"1497.363281\" xlink:href=\"#DejaVuSans-72\"/>\n      </g>\n     </g>\n    </g>\n    <g id=\"xtick_9\">\n     <g id=\"line2d_9\">\n      <g>\n       <use style=\"stroke:#000000;stroke-width:0.8;\" x=\"305.1425\" xlink:href=\"#me3659fec26\" y=\"224.64\"/>\n      </g>\n     </g>\n     <g id=\"text_9\">\n      <!-- Operations Manager -->\n      <g transform=\"translate(307.901875 333.629062)rotate(-90)scale(0.1 -0.1)\">\n       <use xlink:href=\"#DejaVuSans-4f\"/>\n       <use x=\"78.710938\" xlink:href=\"#DejaVuSans-70\"/>\n       <use x=\"142.1875\" xlink:href=\"#DejaVuSans-65\"/>\n       <use x=\"203.710938\" xlink:href=\"#DejaVuSans-72\"/>\n       <use x=\"244.824219\" xlink:href=\"#DejaVuSans-61\"/>\n       <use x=\"306.103516\" xlink:href=\"#DejaVuSans-74\"/>\n       <use x=\"345.3125\" xlink:href=\"#DejaVuSans-69\"/>\n       <use x=\"373.095703\" xlink:href=\"#DejaVuSans-6f\"/>\n       <use x=\"434.277344\" xlink:href=\"#DejaVuSans-6e\"/>\n       <use x=\"497.65625\" xlink:href=\"#DejaVuSans-73\"/>\n       <use x=\"549.755859\" xlink:href=\"#DejaVuSans-20\"/>\n       <use x=\"581.542969\" xlink:href=\"#DejaVuSans-4d\"/>\n       <use x=\"667.822266\" xlink:href=\"#DejaVuSans-61\"/>\n       <use x=\"729.101562\" xlink:href=\"#DejaVuSans-6e\"/>\n       <use x=\"792.480469\" xlink:href=\"#DejaVuSans-61\"/>\n       <use x=\"853.759766\" xlink:href=\"#DejaVuSans-67\"/>\n       <use x=\"917.236328\" xlink:href=\"#DejaVuSans-65\"/>\n       <use x=\"978.759766\" xlink:href=\"#DejaVuSans-72\"/>\n      </g>\n     </g>\n    </g>\n    <g id=\"xtick_10\">\n     <g id=\"line2d_10\">\n      <g>\n       <use style=\"stroke:#000000;stroke-width:0.8;\" x=\"338.6225\" xlink:href=\"#me3659fec26\" y=\"224.64\"/>\n      </g>\n     </g>\n     <g id=\"text_10\">\n      <!-- Security Consultant -->\n      <g transform=\"translate(341.381875 329.954062)rotate(-90)scale(0.1 -0.1)\">\n       <use xlink:href=\"#DejaVuSans-53\"/>\n       <use x=\"63.476562\" xlink:href=\"#DejaVuSans-65\"/>\n       <use x=\"125\" xlink:href=\"#DejaVuSans-63\"/>\n       <use x=\"179.980469\" xlink:href=\"#DejaVuSans-75\"/>\n       <use x=\"243.359375\" xlink:href=\"#DejaVuSans-72\"/>\n       <use x=\"284.472656\" xlink:href=\"#DejaVuSans-69\"/>\n       <use x=\"312.255859\" xlink:href=\"#DejaVuSans-74\"/>\n       <use x=\"351.464844\" xlink:href=\"#DejaVuSans-79\"/>\n       <use x=\"410.644531\" xlink:href=\"#DejaVuSans-20\"/>\n       <use x=\"442.431641\" xlink:href=\"#DejaVuSans-43\"/>\n       <use x=\"512.255859\" xlink:href=\"#DejaVuSans-6f\"/>\n       <use x=\"573.4375\" xlink:href=\"#DejaVuSans-6e\"/>\n       <use x=\"636.816406\" xlink:href=\"#DejaVuSans-73\"/>\n       <use x=\"688.916016\" xlink:href=\"#DejaVuSans-75\"/>\n       <use x=\"752.294922\" xlink:href=\"#DejaVuSans-6c\"/>\n       <use x=\"780.078125\" xlink:href=\"#DejaVuSans-74\"/>\n       <use x=\"819.287109\" xlink:href=\"#DejaVuSans-61\"/>\n       <use x=\"880.566406\" xlink:href=\"#DejaVuSans-6e\"/>\n       <use x=\"943.945312\" xlink:href=\"#DejaVuSans-74\"/>\n      </g>\n     </g>\n    </g>\n   </g>\n   <g id=\"matplotlib.axis_2\">\n    <g id=\"ytick_1\">\n     <g id=\"line2d_11\">\n      <defs>\n       <path d=\"M 0 0 \nL -3.5 0 \n\" id=\"m0b3c4f2807\" style=\"stroke:#000000;stroke-width:0.8;\"/>\n      </defs>\n      <g>\n       <use style=\"stroke:#000000;stroke-width:0.8;\" x=\"20.5625\" xlink:href=\"#m0b3c4f2807\" y=\"224.64\"/>\n      </g>\n     </g>\n     <g id=\"text_11\">\n      <!-- 0 -->\n      <g transform=\"translate(7.2 228.439219)scale(0.1 -0.1)\">\n       <defs>\n        <path d=\"M 2034 4250 \nQ 1547 4250 1301 3770 \nQ 1056 3291 1056 2328 \nQ 1056 1369 1301 889 \nQ 1547 409 2034 409 \nQ 2525 409 2770 889 \nQ 3016 1369 3016 2328 \nQ 3016 3291 2770 3770 \nQ 2525 4250 2034 4250 \nz\nM 2034 4750 \nQ 2819 4750 3233 4129 \nQ 3647 3509 3647 2328 \nQ 3647 1150 3233 529 \nQ 2819 -91 2034 -91 \nQ 1250 -91 836 529 \nQ 422 1150 422 2328 \nQ 422 3509 836 4129 \nQ 1250 4750 2034 4750 \nz\n\" id=\"DejaVuSans-30\" transform=\"scale(0.015625)\"/>\n       </defs>\n       <use xlink:href=\"#DejaVuSans-30\"/>\n      </g>\n     </g>\n    </g>\n    <g id=\"ytick_2\">\n     <g id=\"line2d_12\">\n      <g>\n       <use style=\"stroke:#000000;stroke-width:0.8;\" x=\"20.5625\" xlink:href=\"#m0b3c4f2807\" y=\"190.125714\"/>\n      </g>\n     </g>\n     <g id=\"text_12\">\n      <!-- 1 -->\n      <g transform=\"translate(7.2 193.924933)scale(0.1 -0.1)\">\n       <defs>\n        <path d=\"M 794 531 \nL 1825 531 \nL 1825 4091 \nL 703 3866 \nL 703 4441 \nL 1819 4666 \nL 2450 4666 \nL 2450 531 \nL 3481 531 \nL 3481 0 \nL 794 0 \nL 794 531 \nz\n\" id=\"DejaVuSans-31\" transform=\"scale(0.015625)\"/>\n       </defs>\n       <use xlink:href=\"#DejaVuSans-31\"/>\n      </g>\n     </g>\n    </g>\n    <g id=\"ytick_3\">\n     <g id=\"line2d_13\">\n      <g>\n       <use style=\"stroke:#000000;stroke-width:0.8;\" x=\"20.5625\" xlink:href=\"#m0b3c4f2807\" y=\"155.611429\"/>\n      </g>\n     </g>\n     <g id=\"text_13\">\n      <!-- 2 -->\n      <g transform=\"translate(7.2 159.410647)scale(0.1 -0.1)\">\n       <defs>\n        <path d=\"M 1228 531 \nL 3431 531 \nL 3431 0 \nL 469 0 \nL 469 531 \nQ 828 903 1448 1529 \nQ 2069 2156 2228 2338 \nQ 2531 2678 2651 2914 \nQ 2772 3150 2772 3378 \nQ 2772 3750 2511 3984 \nQ 2250 4219 1831 4219 \nQ 1534 4219 1204 4116 \nQ 875 4013 500 3803 \nL 500 4441 \nQ 881 4594 1212 4672 \nQ 1544 4750 1819 4750 \nQ 2544 4750 2975 4387 \nQ 3406 4025 3406 3419 \nQ 3406 3131 3298 2873 \nQ 3191 2616 2906 2266 \nQ 2828 2175 2409 1742 \nQ 1991 1309 1228 531 \nz\n\" id=\"DejaVuSans-32\" transform=\"scale(0.015625)\"/>\n       </defs>\n       <use xlink:href=\"#DejaVuSans-32\"/>\n      </g>\n     </g>\n    </g>\n    <g id=\"ytick_4\">\n     <g id=\"line2d_14\">\n      <g>\n       <use style=\"stroke:#000000;stroke-width:0.8;\" x=\"20.5625\" xlink:href=\"#m0b3c4f2807\" y=\"121.097143\"/>\n      </g>\n     </g>\n     <g id=\"text_14\">\n      <!-- 3 -->\n      <g transform=\"translate(7.2 124.896362)scale(0.1 -0.1)\">\n       <defs>\n        <path d=\"M 2597 2516 \nQ 3050 2419 3304 2112 \nQ 3559 1806 3559 1356 \nQ 3559 666 3084 287 \nQ 2609 -91 1734 -91 \nQ 1441 -91 1130 -33 \nQ 819 25 488 141 \nL 488 750 \nQ 750 597 1062 519 \nQ 1375 441 1716 441 \nQ 2309 441 2620 675 \nQ 2931 909 2931 1356 \nQ 2931 1769 2642 2001 \nQ 2353 2234 1838 2234 \nL 1294 2234 \nL 1294 2753 \nL 1863 2753 \nQ 2328 2753 2575 2939 \nQ 2822 3125 2822 3475 \nQ 2822 3834 2567 4026 \nQ 2313 4219 1838 4219 \nQ 1578 4219 1281 4162 \nQ 984 4106 628 3988 \nL 628 4550 \nQ 988 4650 1302 4700 \nQ 1616 4750 1894 4750 \nQ 2613 4750 3031 4423 \nQ 3450 4097 3450 3541 \nQ 3450 3153 3228 2886 \nQ 3006 2619 2597 2516 \nz\n\" id=\"DejaVuSans-33\" transform=\"scale(0.015625)\"/>\n       </defs>\n       <use xlink:href=\"#DejaVuSans-33\"/>\n      </g>\n     </g>\n    </g>\n    <g id=\"ytick_5\">\n     <g id=\"line2d_15\">\n      <g>\n       <use style=\"stroke:#000000;stroke-width:0.8;\" x=\"20.5625\" xlink:href=\"#m0b3c4f2807\" y=\"86.582857\"/>\n      </g>\n     </g>\n     <g id=\"text_15\">\n      <!-- 4 -->\n      <g transform=\"translate(7.2 90.382076)scale(0.1 -0.1)\">\n       <defs>\n        <path d=\"M 2419 4116 \nL 825 1625 \nL 2419 1625 \nL 2419 4116 \nz\nM 2253 4666 \nL 3047 4666 \nL 3047 1625 \nL 3713 1625 \nL 3713 1100 \nL 3047 1100 \nL 3047 0 \nL 2419 0 \nL 2419 1100 \nL 313 1100 \nL 313 1709 \nL 2253 4666 \nz\n\" id=\"DejaVuSans-34\" transform=\"scale(0.015625)\"/>\n       </defs>\n       <use xlink:href=\"#DejaVuSans-34\"/>\n      </g>\n     </g>\n    </g>\n    <g id=\"ytick_6\">\n     <g id=\"line2d_16\">\n      <g>\n       <use style=\"stroke:#000000;stroke-width:0.8;\" x=\"20.5625\" xlink:href=\"#m0b3c4f2807\" y=\"52.068571\"/>\n      </g>\n     </g>\n     <g id=\"text_16\">\n      <!-- 5 -->\n      <g transform=\"translate(7.2 55.86779)scale(0.1 -0.1)\">\n       <defs>\n        <path d=\"M 691 4666 \nL 3169 4666 \nL 3169 4134 \nL 1269 4134 \nL 1269 2991 \nQ 1406 3038 1543 3061 \nQ 1681 3084 1819 3084 \nQ 2600 3084 3056 2656 \nQ 3513 2228 3513 1497 \nQ 3513 744 3044 326 \nQ 2575 -91 1722 -91 \nQ 1428 -91 1123 -41 \nQ 819 9 494 109 \nL 494 744 \nQ 775 591 1075 516 \nQ 1375 441 1709 441 \nQ 2250 441 2565 725 \nQ 2881 1009 2881 1497 \nQ 2881 1984 2565 2268 \nQ 2250 2553 1709 2553 \nQ 1456 2553 1204 2497 \nQ 953 2441 691 2322 \nL 691 4666 \nz\n\" id=\"DejaVuSans-35\" transform=\"scale(0.015625)\"/>\n       </defs>\n       <use xlink:href=\"#DejaVuSans-35\"/>\n      </g>\n     </g>\n    </g>\n    <g id=\"ytick_7\">\n     <g id=\"line2d_17\">\n      <g>\n       <use style=\"stroke:#000000;stroke-width:0.8;\" x=\"20.5625\" xlink:href=\"#m0b3c4f2807\" y=\"17.554286\"/>\n      </g>\n     </g>\n     <g id=\"text_17\">\n      <!-- 6 -->\n      <g transform=\"translate(7.2 21.353504)scale(0.1 -0.1)\">\n       <defs>\n        <path d=\"M 2113 2584 \nQ 1688 2584 1439 2293 \nQ 1191 2003 1191 1497 \nQ 1191 994 1439 701 \nQ 1688 409 2113 409 \nQ 2538 409 2786 701 \nQ 3034 994 3034 1497 \nQ 3034 2003 2786 2293 \nQ 2538 2584 2113 2584 \nz\nM 3366 4563 \nL 3366 3988 \nQ 3128 4100 2886 4159 \nQ 2644 4219 2406 4219 \nQ 1781 4219 1451 3797 \nQ 1122 3375 1075 2522 \nQ 1259 2794 1537 2939 \nQ 1816 3084 2150 3084 \nQ 2853 3084 3261 2657 \nQ 3669 2231 3669 1497 \nQ 3669 778 3244 343 \nQ 2819 -91 2113 -91 \nQ 1303 -91 875 529 \nQ 447 1150 447 2328 \nQ 447 3434 972 4092 \nQ 1497 4750 2381 4750 \nQ 2619 4750 2861 4703 \nQ 3103 4656 3366 4563 \nz\n\" id=\"DejaVuSans-36\" transform=\"scale(0.015625)\"/>\n       </defs>\n       <use xlink:href=\"#DejaVuSans-36\"/>\n      </g>\n     </g>\n    </g>\n   </g>\n   <g id=\"patch_13\">\n    <path d=\"M 20.5625 224.64 \nL 20.5625 7.2 \n\" style=\"fill:none;stroke:#000000;stroke-linecap:square;stroke-linejoin:miter;stroke-width:0.8;\"/>\n   </g>\n   <g id=\"patch_14\">\n    <path d=\"M 355.3625 224.64 \nL 355.3625 7.2 \n\" style=\"fill:none;stroke:#000000;stroke-linecap:square;stroke-linejoin:miter;stroke-width:0.8;\"/>\n   </g>\n   <g id=\"patch_15\">\n    <path d=\"M 20.5625 224.64 \nL 355.3625 224.64 \n\" style=\"fill:none;stroke:#000000;stroke-linecap:square;stroke-linejoin:miter;stroke-width:0.8;\"/>\n   </g>\n   <g id=\"patch_16\">\n    <path d=\"M 20.5625 7.2 \nL 355.3625 7.2 \n\" style=\"fill:none;stroke:#000000;stroke-linecap:square;stroke-linejoin:miter;stroke-width:0.8;\"/>\n   </g>\n  </g>\n </g>\n <defs>\n  <clipPath id=\"pa8ea33c70f\">\n   <rect height=\"217.44\" width=\"334.8\" x=\"20.5625\" y=\"7.2\"/>\n  </clipPath>\n </defs>\n</svg>\n",
      "image/png": "[encoded data removed]"
     },
     "metadata": {
      "needs_background": "light"
     }
    }
   ],
   "source": [
    "ccdb[\"Title\"].value_counts()[:10].plot(kind='bar')"
   ]
  },
  {
   "cell_type": "code",
   "execution_count": 18,
   "metadata": {},
   "outputs": [
    {
     "output_type": "display_data",
     "data": {
      "application/vnd.plotly.v1+json": {
       "config": {
        "plotlyServerURL": "https://plot.ly"
       },
       "data": [
        {
         "alignmentgroup": "True",
         "hovertemplate": "variable=Title<br>Title=%{x}<br>Count=%{y}<extra></extra>",
         "legendgroup": "Title",
         "marker": {
          "color": "#636efa"
         },
         "name": "Title",
         "offsetgroup": "Title",
         "orientation": "v",
         "showlegend": true,
         "textposition": "auto",
         "type": "bar",
         "x": [
          "Security Operations Center Analyst",
          "Engagement Manager",
          "Security Engineer",
          "Strategy Consultant",
          "Cyber Security Analyst",
          "Cyber Operations Manager",
          "Cloud Security Engineer",
          "Executive Operations Manager",
          "Operations Manager",
          "Security Consultant"
         ],
         "xaxis": "x",
         "y": [
          6,
          5,
          4,
          3,
          2,
          2,
          1,
          1,
          1,
          1
         ],
         "yaxis": "y"
        }
       ],
       "layout": {
        "barmode": "relative",
        "legend": {
         "title": {
          "text": "variable"
         },
         "tracegroupgap": 0
        },
        "showlegend": false,
        "template": {
         "data": {
          "bar": [
           {
            "error_x": {
             "color": "#2a3f5f"
            },
            "error_y": {
             "color": "#2a3f5f"
            },
            "marker": {
             "line": {
              "color": "#E5ECF6",
              "width": 0.5
             }
            },
            "type": "bar"
           }
          ],
          "barpolar": [
           {
            "marker": {
             "line": {
              "color": "#E5ECF6",
              "width": 0.5
             }
            },
            "type": "barpolar"
           }
          ],
          "carpet": [
           {
            "aaxis": {
             "endlinecolor": "#2a3f5f",
             "gridcolor": "white",
             "linecolor": "white",
             "minorgridcolor": "white",
             "startlinecolor": "#2a3f5f"
            },
            "baxis": {
             "endlinecolor": "#2a3f5f",
             "gridcolor": "white",
             "linecolor": "white",
             "minorgridcolor": "white",
             "startlinecolor": "#2a3f5f"
            },
            "type": "carpet"
           }
          ],
          "choropleth": [
           {
            "colorbar": {
             "outlinewidth": 0,
             "ticks": ""
            },
            "type": "choropleth"
           }
          ],
          "contour": [
           {
            "colorbar": {
             "outlinewidth": 0,
             "ticks": ""
            },
            "colorscale": [
             [
              0,
              "#0d0887"
             ],
             [
              0.1111111111111111,
              "#46039f"
             ],
             [
              0.2222222222222222,
              "#7201a8"
             ],
             [
              0.3333333333333333,
              "#9c179e"
             ],
             [
              0.4444444444444444,
              "#bd3786"
             ],
             [
              0.5555555555555556,
              "#d8576b"
             ],
             [
              0.6666666666666666,
              "#ed7953"
             ],
             [
              0.7777777777777778,
              "#fb9f3a"
             ],
             [
              0.8888888888888888,
              "#fdca26"
             ],
             [
              1,
              "#f0f921"
             ]
            ],
            "type": "contour"
           }
          ],
          "contourcarpet": [
           {
            "colorbar": {
             "outlinewidth": 0,
             "ticks": ""
            },
            "type": "contourcarpet"
           }
          ],
          "heatmap": [
           {
            "colorbar": {
             "outlinewidth": 0,
             "ticks": ""
            },
            "colorscale": [
             [
              0,
              "#0d0887"
             ],
             [
              0.1111111111111111,
              "#46039f"
             ],
             [
              0.2222222222222222,
              "#7201a8"
             ],
             [
              0.3333333333333333,
              "#9c179e"
             ],
             [
              0.4444444444444444,
              "#bd3786"
             ],
             [
              0.5555555555555556,
              "#d8576b"
             ],
             [
              0.6666666666666666,
              "#ed7953"
             ],
             [
              0.7777777777777778,
              "#fb9f3a"
             ],
             [
              0.8888888888888888,
              "#fdca26"
             ],
             [
              1,
              "#f0f921"
             ]
            ],
            "type": "heatmap"
           }
          ],
          "heatmapgl": [
           {
            "colorbar": {
             "outlinewidth": 0,
             "ticks": ""
            },
            "colorscale": [
             [
              0,
              "#0d0887"
             ],
             [
              0.1111111111111111,
              "#46039f"
             ],
             [
              0.2222222222222222,
              "#7201a8"
             ],
             [
              0.3333333333333333,
              "#9c179e"
             ],
             [
              0.4444444444444444,
              "#bd3786"
             ],
             [
              0.5555555555555556,
              "#d8576b"
             ],
             [
              0.6666666666666666,
              "#ed7953"
             ],
             [
              0.7777777777777778,
              "#fb9f3a"
             ],
             [
              0.8888888888888888,
              "#fdca26"
             ],
             [
              1,
              "#f0f921"
             ]
            ],
            "type": "heatmapgl"
           }
          ],
          "histogram": [
           {
            "marker": {
             "colorbar": {
              "outlinewidth": 0,
              "ticks": ""
             }
            },
            "type": "histogram"
           }
          ],
          "histogram2d": [
           {
            "colorbar": {
             "outlinewidth": 0,
             "ticks": ""
            },
            "colorscale": [
             [
              0,
              "#0d0887"
             ],
             [
              0.1111111111111111,
              "#46039f"
             ],
             [
              0.2222222222222222,
              "#7201a8"
             ],
             [
              0.3333333333333333,
              "#9c179e"
             ],
             [
              0.4444444444444444,
              "#bd3786"
             ],
             [
              0.5555555555555556,
              "#d8576b"
             ],
             [
              0.6666666666666666,
              "#ed7953"
             ],
             [
              0.7777777777777778,
              "#fb9f3a"
             ],
             [
              0.8888888888888888,
              "#fdca26"
             ],
             [
              1,
              "#f0f921"
             ]
            ],
            "type": "histogram2d"
           }
          ],
          "histogram2dcontour": [
           {
            "colorbar": {
             "outlinewidth": 0,
             "ticks": ""
            },
            "colorscale": [
             [
              0,
              "#0d0887"
             ],
             [
              0.1111111111111111,
              "#46039f"
             ],
             [
              0.2222222222222222,
              "#7201a8"
             ],
             [
              0.3333333333333333,
              "#9c179e"
             ],
             [
              0.4444444444444444,
              "#bd3786"
             ],
             [
              0.5555555555555556,
              "#d8576b"
             ],
             [
              0.6666666666666666,
              "#ed7953"
             ],
             [
              0.7777777777777778,
              "#fb9f3a"
             ],
             [
              0.8888888888888888,
              "#fdca26"
             ],
             [
              1,
              "#f0f921"
             ]
            ],
            "type": "histogram2dcontour"
           }
          ],
          "mesh3d": [
           {
            "colorbar": {
             "outlinewidth": 0,
             "ticks": ""
            },
            "type": "mesh3d"
           }
          ],
          "parcoords": [
           {
            "line": {
             "colorbar": {
              "outlinewidth": 0,
              "ticks": ""
             }
            },
            "type": "parcoords"
           }
          ],
          "pie": [
           {
            "automargin": true,
            "type": "pie"
           }
          ],
          "scatter": [
           {
            "marker": {
             "colorbar": {
              "outlinewidth": 0,
              "ticks": ""
             }
            },
            "type": "scatter"
           }
          ],
          "scatter3d": [
           {
            "line": {
             "colorbar": {
              "outlinewidth": 0,
              "ticks": ""
             }
            },
            "marker": {
             "colorbar": {
              "outlinewidth": 0,
              "ticks": ""
             }
            },
            "type": "scatter3d"
           }
          ],
          "scattercarpet": [
           {
            "marker": {
             "colorbar": {
              "outlinewidth": 0,
              "ticks": ""
             }
            },
            "type": "scattercarpet"
           }
          ],
          "scattergeo": [
           {
            "marker": {
             "colorbar": {
              "outlinewidth": 0,
              "ticks": ""
             }
            },
            "type": "scattergeo"
           }
          ],
          "scattergl": [
           {
            "marker": {
             "colorbar": {
              "outlinewidth": 0,
              "ticks": ""
             }
            },
            "type": "scattergl"
           }
          ],
          "scattermapbox": [
           {
            "marker": {
             "colorbar": {
              "outlinewidth": 0,
              "ticks": ""
             }
            },
            "type": "scattermapbox"
           }
          ],
          "scatterpolar": [
           {
            "marker": {
             "colorbar": {
              "outlinewidth": 0,
              "ticks": ""
             }
            },
            "type": "scatterpolar"
           }
          ],
          "scatterpolargl": [
           {
            "marker": {
             "colorbar": {
              "outlinewidth": 0,
              "ticks": ""
             }
            },
            "type": "scatterpolargl"
           }
          ],
          "scatterternary": [
           {
            "marker": {
             "colorbar": {
              "outlinewidth": 0,
              "ticks": ""
             }
            },
            "type": "scatterternary"
           }
          ],
          "surface": [
           {
            "colorbar": {
             "outlinewidth": 0,
             "ticks": ""
            },
            "colorscale": [
             [
              0,
              "#0d0887"
             ],
             [
              0.1111111111111111,
              "#46039f"
             ],
             [
              0.2222222222222222,
              "#7201a8"
             ],
             [
              0.3333333333333333,
              "#9c179e"
             ],
             [
              0.4444444444444444,
              "#bd3786"
             ],
             [
              0.5555555555555556,
              "#d8576b"
             ],
             [
              0.6666666666666666,
              "#ed7953"
             ],
             [
              0.7777777777777778,
              "#fb9f3a"
             ],
             [
              0.8888888888888888,
              "#fdca26"
             ],
             [
              1,
              "#f0f921"
             ]
            ],
            "type": "surface"
           }
          ],
          "table": [
           {
            "cells": {
             "fill": {
              "color": "#EBF0F8"
             },
             "line": {
              "color": "white"
             }
            },
            "header": {
             "fill": {
              "color": "#C8D4E3"
             },
             "line": {
              "color": "white"
             }
            },
            "type": "table"
           }
          ]
         },
         "layout": {
          "annotationdefaults": {
           "arrowcolor": "#2a3f5f",
           "arrowhead": 0,
           "arrowwidth": 1
          },
          "autotypenumbers": "strict",
          "coloraxis": {
           "colorbar": {
            "outlinewidth": 0,
            "ticks": ""
           }
          },
          "colorscale": {
           "diverging": [
            [
             0,
             "#8e0152"
            ],
            [
             0.1,
             "#c51b7d"
            ],
            [
             0.2,
             "#de77ae"
            ],
            [
             0.3,
             "#f1b6da"
            ],
            [
             0.4,
             "#fde0ef"
            ],
            [
             0.5,
             "#f7f7f7"
            ],
            [
             0.6,
             "#e6f5d0"
            ],
            [
             0.7,
             "#b8e186"
            ],
            [
             0.8,
             "#7fbc41"
            ],
            [
             0.9,
             "#4d9221"
            ],
            [
             1,
             "#276419"
            ]
           ],
           "sequential": [
            [
             0,
             "#0d0887"
            ],
            [
             0.1111111111111111,
             "#46039f"
            ],
            [
             0.2222222222222222,
             "#7201a8"
            ],
            [
             0.3333333333333333,
             "#9c179e"
            ],
            [
             0.4444444444444444,
             "#bd3786"
            ],
            [
             0.5555555555555556,
             "#d8576b"
            ],
            [
             0.6666666666666666,
             "#ed7953"
            ],
            [
             0.7777777777777778,
             "#fb9f3a"
            ],
            [
             0.8888888888888888,
             "#fdca26"
            ],
            [
             1,
             "#f0f921"
            ]
           ],
           "sequentialminus": [
            [
             0,
             "#0d0887"
            ],
            [
             0.1111111111111111,
             "#46039f"
            ],
            [
             0.2222222222222222,
             "#7201a8"
            ],
            [
             0.3333333333333333,
             "#9c179e"
            ],
            [
             0.4444444444444444,
             "#bd3786"
            ],
            [
             0.5555555555555556,
             "#d8576b"
            ],
            [
             0.6666666666666666,
             "#ed7953"
            ],
            [
             0.7777777777777778,
             "#fb9f3a"
            ],
            [
             0.8888888888888888,
             "#fdca26"
            ],
            [
             1,
             "#f0f921"
            ]
           ]
          },
          "colorway": [
           "#636efa",
           "#EF553B",
           "#00cc96",
           "#ab63fa",
           "#FFA15A",
           "#19d3f3",
           "#FF6692",
           "#B6E880",
           "#FF97FF",
           "#FECB52"
          ],
          "font": {
           "color": "#2a3f5f"
          },
          "geo": {
           "bgcolor": "white",
           "lakecolor": "white",
           "landcolor": "#E5ECF6",
           "showlakes": true,
           "showland": true,
           "subunitcolor": "white"
          },
          "hoverlabel": {
           "align": "left"
          },
          "hovermode": "closest",
          "mapbox": {
           "style": "light"
          },
          "paper_bgcolor": "white",
          "plot_bgcolor": "#E5ECF6",
          "polar": {
           "angularaxis": {
            "gridcolor": "white",
            "linecolor": "white",
            "ticks": ""
           },
           "bgcolor": "#E5ECF6",
           "radialaxis": {
            "gridcolor": "white",
            "linecolor": "white",
            "ticks": ""
           }
          },
          "scene": {
           "xaxis": {
            "backgroundcolor": "#E5ECF6",
            "gridcolor": "white",
            "gridwidth": 2,
            "linecolor": "white",
            "showbackground": true,
            "ticks": "",
            "zerolinecolor": "white"
           },
           "yaxis": {
            "backgroundcolor": "#E5ECF6",
            "gridcolor": "white",
            "gridwidth": 2,
            "linecolor": "white",
            "showbackground": true,
            "ticks": "",
            "zerolinecolor": "white"
           },
           "zaxis": {
            "backgroundcolor": "#E5ECF6",
            "gridcolor": "white",
            "gridwidth": 2,
            "linecolor": "white",
            "showbackground": true,
            "ticks": "",
            "zerolinecolor": "white"
           }
          },
          "shapedefaults": {
           "line": {
            "color": "#2a3f5f"
           }
          },
          "ternary": {
           "aaxis": {
            "gridcolor": "white",
            "linecolor": "white",
            "ticks": ""
           },
           "baxis": {
            "gridcolor": "white",
            "linecolor": "white",
            "ticks": ""
           },
           "bgcolor": "#E5ECF6",
           "caxis": {
            "gridcolor": "white",
            "linecolor": "white",
            "ticks": ""
           }
          },
          "title": {
           "x": 0.05
          },
          "xaxis": {
           "automargin": true,
           "gridcolor": "white",
           "linecolor": "white",
           "ticks": "",
           "title": {
            "standoff": 15
           },
           "zerolinecolor": "white",
           "zerolinewidth": 2
          },
          "yaxis": {
           "automargin": true,
           "gridcolor": "white",
           "linecolor": "white",
           "ticks": "",
           "title": {
            "standoff": 15
           },
           "zerolinecolor": "white",
           "zerolinewidth": 2
          }
         }
        },
        "title": {
         "text": "Top 10 Conquest Cyber Job Titles From LinkedIn",
         "x": 0.5,
         "xanchor": "center",
         "y": 0.9,
         "yanchor": "top"
        },
        "xaxis": {
         "anchor": "y",
         "domain": [
          0,
          1
         ],
         "title": {
          "text": "Title"
         }
        },
        "yaxis": {
         "anchor": "x",
         "domain": [
          0,
          1
         ],
         "title": {
          "text": "Count"
         }
        }
       }
      }
     },
     "metadata": {}
    }
   ],
   "source": [
    "fig = px.bar(ccdb[\"Title\"].value_counts()[:10],\n",
    "        labels={'value':'Count', 'index':'Title'},\n",
    "        title = \"Top 10 Conquest Job Title From LinkedIn\")\n",
    "fig.update_layout(\n",
    "    showlegend = False,\n",
    "    title={\n",
    "        'text': \"Top 10 Conquest Cyber Job Titles From LinkedIn\",\n",
    "        'y':0.9,\n",
    "        'x':0.5,\n",
    "        'xanchor': 'center',\n",
    "        'yanchor': 'top'})\n",
    "fig.show()"
   ]
  },
  {
   "cell_type": "code",
   "execution_count": null,
   "metadata": {},
   "outputs": [],
   "source": []
  }
 ]
}